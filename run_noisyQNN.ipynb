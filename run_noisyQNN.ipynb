{
 "cells": [
  {
   "cell_type": "code",
   "execution_count": 5,
   "id": "105203ad-d8ae-40dd-adae-73e783d12fd0",
   "metadata": {},
   "outputs": [],
   "source": [
    "# __author__ = \"Yifan Zhou\"\n",
    "# __copyright__ = \"Copyright 2021, DOE Project\"\n",
    "# __email__ = \"yifan.zhou.1@stonybrook.edu\"\n",
    "import pennylane as qml\n",
    "from setnoise import setNoise\n",
    "from pennylane import numpy as np\n",
    "\n",
    "from qiskit_aer.noise import NoiseModel, QuantumError, ReadoutError, pauli_error, depolarizing_error, thermal_relaxation_error\n",
    "#from qiskit.providers.aer.noise import noise\n",
    "# from qiskit.providers.aer.noise import NoiseModel\n",
    "# from qiskit.providers.aer.noise import QuantumError, ReadoutError\n",
    "# from qiskit.providers.aer.noise import pauli_error\n",
    "# from qiskit.providers.aer.noise import depolarizing_error\n",
    "# from qiskit.providers.aer.noise import thermal_relaxation_error"
   ]
  },
  {
   "cell_type": "code",
   "execution_count": 6,
   "id": "7443d267-4d11-4941-af99-a2ef45513308",
   "metadata": {},
   "outputs": [],
   "source": [
    "def setNoise(p_reset, p_meas, p_gate1):\n",
    "#     # Example error probabilities\n",
    "#     p_reset = 0.03   # reset error\n",
    "#     p_meas = 0.1     # measurement error\n",
    "#     p_gate1 = 0.001  # 1-qubit gate\n",
    "#     p_gate2 = 0.01   # 2-qubit gate\n",
    "\n",
    "    # set to float\n",
    "    p_reset = float(p_reset)\n",
    "    p_meas = float(p_meas)\n",
    "    p_gate1 = float(p_gate1)\n",
    "    \n",
    "    # QuantumError objects\n",
    "    error_reset = pauli_error([('X', p_reset), ('I', 1 - p_reset)])\n",
    "    error_meas = pauli_error([('X',p_meas), ('I', 1 - p_meas)])\n",
    "    error_gate1 = pauli_error([('X',p_gate1), ('I', 1 - p_gate1)])\n",
    "    error_gate2 = error_gate1.tensor(error_gate1)\n",
    "\n",
    "    # Add errors to noise model\n",
    "    noise_model = NoiseModel()\n",
    "    noise_model.add_all_qubit_quantum_error(error_reset, \"reset\")\n",
    "    noise_model.add_all_qubit_quantum_error(error_meas, \"measure\")\n",
    "    noise_model.add_all_qubit_quantum_error(error_gate1, [\"x90\", \"u1\", \"u2\", \"u3\", \"U\", \"id\", \"x\", \"y\", \"z\", \"h\", \"s\", \"sdg\",\n",
    "        \"t\", \"tdg\", \"r\", \"rx\", \"ry\", \"rz\", \"p\"])\n",
    "    noise_model.add_all_qubit_quantum_error(error_gate2, [\"cx\", \"cy\", \"cz\", \"swap\", \"rxx\", \"ryy\", \"rzz\",\n",
    "                                \"rzx\", \"cu1\", \"cu2\", \"cu3\", \"cp\"])\n",
    "    \n",
    "    return noise_model"
   ]
  },
  {
   "cell_type": "code",
   "execution_count": 7,
   "id": "9ac3f9d0-c3fa-4137-8ff4-0cb24dd09c35",
   "metadata": {},
   "outputs": [],
   "source": [
    "# this is the ideal device you previously used\n",
    "n_qubits = 5\n",
    "dev_ideal = qml.device(\"default.qubit\", wires=n_qubits) # set up an ideal quantum device for baseline performance evaluation.\n",
    "# dev_ideal = qml.device(\"default.qubit\", analytic=True, wires=n_qubits) - says analytic parameter doesn't exist\n",
    "\n",
    "# add gate error to see its impact (you can definitely change the noise level)\n",
    "# error_Set = [10**i for i in np.arange(-4.5, n-0.9, 0.1)]  # a set of gate errors - n is not defined\n",
    "error_Set = [10**i for i in np.arange(-4.5, -0.9, 0.1)]  # a set of gate errors\n",
    "# test QNN under a set of gate errors\n",
    "\n",
    "for i_Set in range(len(error_Set)-1,-1,-1):\n",
    "    # set up noise level\n",
    "    gate_error = error_Set[i_Set]\n",
    "    noise_model = setNoise(0.03, 0.04413, gate_error)\n",
    "    # set up noisy device\n",
    "    dev_noisy = qml.device(\"qiskit.aer\", wires=n_qubits, backend='qasm_simulator', backend_options={\"basis_gates\": noise_model.basis_gates, \"noise_model\": noise_model})\n",
    "\n",
    "    # initialize your qnn and run it using dev_noisy instead of dev_ideal\n",
    "    #<*test_your_qnn*>\n",
    "    "
   ]
  }
 ],
 "metadata": {
  "kernelspec": {
   "display_name": "Python 3 (ipykernel)",
   "language": "python",
   "name": "python3"
  },
  "language_info": {
   "codemirror_mode": {
    "name": "ipython",
    "version": 3
   },
   "file_extension": ".py",
   "mimetype": "text/x-python",
   "name": "python",
   "nbconvert_exporter": "python",
   "pygments_lexer": "ipython3",
   "version": "3.12.4"
  }
 },
 "nbformat": 4,
 "nbformat_minor": 5
}
