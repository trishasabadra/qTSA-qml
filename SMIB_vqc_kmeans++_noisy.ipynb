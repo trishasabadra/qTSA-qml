{
 "cells": [
  {
   "cell_type": "code",
   "execution_count": 1,
   "id": "927cab77-39da-4b6f-b3eb-93301438c80e",
   "metadata": {},
   "outputs": [],
   "source": [
    "%matplotlib inline"
   ]
  },
  {
   "cell_type": "code",
   "execution_count": 1,
   "id": "d365d2ca-f277-4d54-b090-c860a7d7fc6f",
   "metadata": {},
   "outputs": [],
   "source": [
    "import pennylane as qml\n",
    "from pennylane import numpy as np\n",
    "from qiskit_aer.noise import NoiseModel, QuantumError, pauli_error\n",
    "from pennylane.optimize import NesterovMomentumOptimizer"
   ]
  },
  {
   "cell_type": "code",
   "execution_count": 2,
   "id": "56cff7a0-3dc8-4ed5-9363-a74011085407",
   "metadata": {},
   "outputs": [],
   "source": [
    "# Ideal device setup\n",
    "dev = qml.device(\"default.qubit\", wires=2)\n",
    "\n",
    "def get_angles(x):\n",
    "    beta0 = 2 * np.arcsin(np.sqrt(x[1] ** 2) / np.sqrt(x[0] ** 2 + x[1] ** 2 + 1e-12))\n",
    "    beta1 = 2 * np.arcsin(np.sqrt(x[3] ** 2) / np.sqrt(x[2] ** 2 + x[3] ** 2 + 1e-12))\n",
    "    beta2 = 2 * np.arcsin(np.linalg.norm(x[2:]) / np.linalg.norm(x))\n",
    "    return np.array([beta2, -beta1 / 2, beta1 / 2, -beta0 / 2, beta0 / 2])\n",
    "\n",
    "def state_preparation(a):\n",
    "    qml.RY(a[0], wires=0)\n",
    "    qml.CNOT(wires=[0, 1])\n",
    "    qml.RY(a[1], wires=1)\n",
    "    qml.CNOT(wires=[0, 1])\n",
    "    qml.RY(a[2], wires=1)\n",
    "    qml.PauliX(wires=0)\n",
    "    qml.CNOT(wires=[0, 1])\n",
    "    qml.RY(a[3], wires=1)\n",
    "    qml.CNOT(wires=[0, 1])\n",
    "    qml.RY(a[4], wires=1)\n",
    "    qml.PauliX(wires=0)"
   ]
  },
  {
   "cell_type": "code",
   "execution_count": 3,
   "id": "bd8bd7da-e130-4020-b0dc-b95741c1408c",
   "metadata": {},
   "outputs": [
    {
     "name": "stdout",
     "output_type": "stream",
     "text": [
      "x               :  [0.4746 0.661  0.1    0.1   ]\n",
      "angles          :  [ 0.344148 -0.785398  0.785398 -0.94809   0.94809 ]\n",
      "amplitude vector:  [0.574623 0.800307 0.121075 0.121075]\n"
     ]
    }
   ],
   "source": [
    "# testing if routine works\n",
    "x = np.array([0.4746, 0.6610, 0.1, 0.1], requires_grad=False)\n",
    "ang = get_angles(x)\n",
    "\n",
    "@qml.qnode(dev)\n",
    "def test(angles):\n",
    "    state_preparation(angles)\n",
    "    return qml.state()\n",
    "\n",
    "state = test(ang)\n",
    "\n",
    "print(\"x               : \", np.round(x, 6))\n",
    "print(\"angles          : \", np.round(ang, 6))\n",
    "print(\"amplitude vector: \", np.round(np.real(state), 6))"
   ]
  },
  {
   "cell_type": "code",
   "execution_count": 4,
   "id": "880a0fb7-a6da-4942-b9ed-f51d9cb57fd2",
   "metadata": {},
   "outputs": [],
   "source": [
    "def layer(layer_weights):\n",
    "    for wire in range(2):\n",
    "        qml.Rot(*layer_weights[wire], wires=wire)\n",
    "    qml.CNOT(wires=[0, 1])"
   ]
  },
  {
   "cell_type": "code",
   "execution_count": 5,
   "id": "88d6abdc-902a-4506-b611-0efdbd1b5acb",
   "metadata": {},
   "outputs": [],
   "source": [
    "# Cost function\n",
    "def square_loss(labels, predictions):\n",
    "    return np.mean((labels - qml.math.stack(predictions)) ** 2)\n",
    "\n",
    "def accuracy(labels, predictions):\n",
    "    acc = sum(abs(l - p) < 1e-5 for l, p in zip(labels, predictions))\n",
    "    acc = acc / len(labels)\n",
    "    return acc"
   ]
  },
  {
   "cell_type": "code",
   "execution_count": 6,
   "id": "2697f63c-6c7f-424f-8b55-28cb90b16d32",
   "metadata": {},
   "outputs": [],
   "source": [
    "# Load and preprocess data\n",
    "data = np.loadtxt(\"trainX.txt\")\n",
    "X = data[:, 0:2]\n",
    "padding = np.ones((len(X), 2)) * 0.1\n",
    "X_pad = np.c_[X, padding]\n",
    "normalization = np.sqrt(np.sum(X_pad**2, -1))\n",
    "X_norm = (X_pad.T / normalization).T\n",
    "features = np.array([get_angles(x) for x in X_norm], requires_grad=False)\n",
    "\n",
    "Y = np.loadtxt(\"trainY.txt\")\n",
    "Y = np.where(Y == 0, -1.0, 1.0)"
   ]
  },
  {
   "cell_type": "code",
   "execution_count": 7,
   "id": "a8867599-b172-41c5-ba76-1b01d680023d",
   "metadata": {},
   "outputs": [],
   "source": [
    "# Apply k-means clustering\n",
    "from sklearn.cluster import KMeans\n",
    "\n",
    "kmeans = KMeans(n_clusters=2, init='k-means++', n_init=10, max_iter=300) # Use K-means++ for better initial centroids\n",
    "# kmeans = KMeans(n_clusters=2, random_state=42)\n",
    "kmeans.fit(X)\n",
    "clusters = kmeans.labels_\n",
    "clusters = np.where(clusters == 0, -1.0, 1.0)"
   ]
  },
  {
   "cell_type": "code",
   "execution_count": 8,
   "id": "df34f9fa-e432-4956-8ccc-16a66774ff9d",
   "metadata": {},
   "outputs": [],
   "source": [
    "# import matplotlib.pyplot as plt\n",
    "\n",
    "# plt.figure()\n",
    "# plt.scatter(X[:, 0][Y == 1], X[:, 1][Y == 1], c=\"b\", marker=\"o\", ec=\"k\", label='Stable (Actual)')\n",
    "# plt.scatter(X[:, 0][Y == -1], X[:, 1][Y == -1], c=\"r\", marker=\"o\", ec=\"k\", label='Unstable (Actual)')\n",
    "# plt.title(\"Original Data\")\n",
    "# plt.legend()\n",
    "# plt.show()\n",
    "\n",
    "# plt.figure()\n",
    "# plt.scatter(X[:, 0][clusters == 1], X[:, 1][clusters == 1], c=\"b\", marker=\"o\", ec=\"k\", label='Cluster 0')\n",
    "# plt.scatter(X[:, 0][clusters == -1], X[:, 1][clusters == -1], c=\"r\", marker=\"o\", ec=\"k\", label='Cluster 1')\n",
    "# plt.title(\"K-means Clustered Data\")\n",
    "# plt.legend()\n",
    "# plt.show()"
   ]
  },
  {
   "cell_type": "code",
   "execution_count": 9,
   "id": "0fe80621-5d2a-4272-a319-af905a64bdad",
   "metadata": {},
   "outputs": [],
   "source": [
    "# Split data into training and validation sets\n",
    "np.random.seed(0)\n",
    "num_data = len(clusters)\n",
    "num_train = int(0.75 * num_data)\n",
    "index = np.random.permutation(range(num_data))\n",
    "\n",
    "feats_train = features[index[:num_train]]\n",
    "clusters_train = clusters[index[:num_train]]\n",
    "feats_val = features[index[num_train:]]\n",
    "clusters_val = clusters[index[num_train:]]\n",
    "\n",
    "X_train = X[index[:num_train]]\n",
    "X_val = X[index[num_train:]]"
   ]
  },
  {
   "cell_type": "code",
   "execution_count": 10,
   "id": "26d4f4df-0a28-4a3b-9ad7-b29908c61e97",
   "metadata": {},
   "outputs": [],
   "source": [
    "# Optimization\n",
    "num_qubits = 2\n",
    "num_layers = 6\n",
    "\n",
    "weights_init = 0.01 * np.random.randn(num_layers, num_qubits, 3, requires_grad=True)\n",
    "bias_init = np.array(0.0, requires_grad=True)\n",
    "\n",
    "opt = NesterovMomentumOptimizer(0.05)\n",
    "batch_size = 128\n",
    "\n",
    "weights = weights_init\n",
    "bias = bias_init"
   ]
  },
  {
   "cell_type": "code",
   "execution_count": 11,
   "id": "8094310f-e3c9-4431-b27a-310734b36ceb",
   "metadata": {},
   "outputs": [],
   "source": [
    "def setNoise(p_reset, p_meas, p_gate1):\n",
    "    p_reset = float(p_reset)\n",
    "    p_meas = float(p_meas)\n",
    "    p_gate1 = float(p_gate1)\n",
    "    \n",
    "    error_reset = pauli_error([('X', p_reset), ('I', 1 - p_reset)])\n",
    "    error_meas = pauli_error([('X',p_meas), ('I', 1 - p_meas)])\n",
    "    error_gate1 = pauli_error([('X',p_gate1), ('I', 1 - p_gate1)])\n",
    "    error_gate2 = error_gate1.tensor(error_gate1)\n",
    "\n",
    "    noise_model = NoiseModel()\n",
    "    noise_model.add_all_qubit_quantum_error(error_reset, \"reset\")\n",
    "    noise_model.add_all_qubit_quantum_error(error_meas, \"measure\")\n",
    "    noise_model.add_all_qubit_quantum_error(error_gate1, [\"x\", \"y\", \"z\", \"h\", \"s\", \"sdg\", \"t\", \"tdg\", \"rx\", \"ry\", \"rz\", \"p\"])\n",
    "    noise_model.add_all_qubit_quantum_error(error_gate2, [\"cx\", \"cy\", \"cz\", \"swap\", \"rxx\", \"ryy\", \"rzz\", \"rzx\", \"cu1\", \"cu2\", \"cu3\", \"cp\"])\n",
    "    \n",
    "    return noise_model"
   ]
  },
  {
   "cell_type": "code",
   "execution_count": 12,
   "id": "a8e32078-67ff-4d15-b4d2-bb945ee54d72",
   "metadata": {},
   "outputs": [
    {
     "name": "stdout",
     "output_type": "stream",
     "text": [
      "before opt:  2024-07-01 23:31:32.695879\n",
      "after opt:  2024-07-01 23:44:39.094267\n",
      " Iter: 1 | Gate Error: 0.09999999999999713 | Cost: 1.0062315 | Accuracy: 0.5000000 | Val Acc: 0.4687500\n",
      "before opt:  2024-07-01 23:45:23.988418\n",
      "after opt:  2024-07-01 23:54:11.877331\n",
      " Iter: 2 | Gate Error: 0.09999999999999713 | Cost: 0.9956970 | Accuracy: 0.5000000 | Val Acc: 0.4843750\n",
      "before opt:  2024-07-01 23:54:42.597874\n",
      "after opt:  2024-07-02 00:05:37.824246\n",
      " Iter: 3 | Gate Error: 0.09999999999999713 | Cost: 1.0035647 | Accuracy: 0.5520833 | Val Acc: 0.5312500\n",
      "before opt:  2024-07-02 00:06:09.824620\n",
      "after opt:  2024-07-02 00:16:20.282652\n",
      " Iter: 4 | Gate Error: 0.09999999999999713 | Cost: 0.9900942 | Accuracy: 0.5208333 | Val Acc: 0.5000000\n",
      "before opt:  2024-07-02 00:17:19.475333\n",
      "after opt:  2024-07-02 00:27:50.998031\n",
      " Iter: 5 | Gate Error: 0.09999999999999713 | Cost: 0.9935464 | Accuracy: 0.5520833 | Val Acc: 0.5156250\n",
      "before opt:  2024-07-02 00:28:25.330425\n",
      "after opt:  2024-07-02 00:35:19.490151\n"
     ]
    },
    {
     "ename": "KeyboardInterrupt",
     "evalue": "",
     "output_type": "error",
     "traceback": [
      "\u001b[0;31m---------------------------------------------------------------------------\u001b[0m",
      "\u001b[0;31mKeyboardInterrupt\u001b[0m                         Traceback (most recent call last)",
      "Cell \u001b[0;32mIn[12], line 55\u001b[0m\n\u001b[1;32m     53\u001b[0m \u001b[38;5;66;03m# Compute accuracy\u001b[39;00m\n\u001b[1;32m     54\u001b[0m predictions_train \u001b[38;5;241m=\u001b[39m [np\u001b[38;5;241m.\u001b[39msign(variational_classifier_noisy(weights, bias, x)) \u001b[38;5;28;01mfor\u001b[39;00m x \u001b[38;5;129;01min\u001b[39;00m feats_train]\n\u001b[0;32m---> 55\u001b[0m predictions_val \u001b[38;5;241m=\u001b[39m [np\u001b[38;5;241m.\u001b[39msign(variational_classifier_noisy(weights, bias, x)) \u001b[38;5;28;01mfor\u001b[39;00m x \u001b[38;5;129;01min\u001b[39;00m feats_val]\n\u001b[1;32m     56\u001b[0m acc_train \u001b[38;5;241m=\u001b[39m accuracy(clusters_train, predictions_train)\n\u001b[1;32m     57\u001b[0m acc_val \u001b[38;5;241m=\u001b[39m accuracy(clusters_val, predictions_val)\n",
      "Cell \u001b[0;32mIn[12], line 30\u001b[0m, in \u001b[0;36mvariational_classifier_noisy\u001b[0;34m(weights, bias, x)\u001b[0m\n\u001b[1;32m     29\u001b[0m \u001b[38;5;28;01mdef\u001b[39;00m \u001b[38;5;21mvariational_classifier_noisy\u001b[39m(weights, bias, x):\n\u001b[0;32m---> 30\u001b[0m     \u001b[38;5;28;01mreturn\u001b[39;00m noisy_circuit(weights, x) \u001b[38;5;241m+\u001b[39m bias\n",
      "File \u001b[0;32m/opt/anaconda3/envs/py12/lib/python3.12/site-packages/pennylane/workflow/qnode.py:1098\u001b[0m, in \u001b[0;36mQNode.__call__\u001b[0;34m(self, *args, **kwargs)\u001b[0m\n\u001b[1;32m   1095\u001b[0m \u001b[38;5;28mself\u001b[39m\u001b[38;5;241m.\u001b[39m_update_gradient_fn(shots\u001b[38;5;241m=\u001b[39moverride_shots, tape\u001b[38;5;241m=\u001b[39m\u001b[38;5;28mself\u001b[39m\u001b[38;5;241m.\u001b[39m_tape)\n\u001b[1;32m   1097\u001b[0m \u001b[38;5;28;01mtry\u001b[39;00m:\n\u001b[0;32m-> 1098\u001b[0m     res \u001b[38;5;241m=\u001b[39m \u001b[38;5;28mself\u001b[39m\u001b[38;5;241m.\u001b[39m_execution_component(args, kwargs, override_shots\u001b[38;5;241m=\u001b[39moverride_shots)\n\u001b[1;32m   1099\u001b[0m \u001b[38;5;28;01mfinally\u001b[39;00m:\n\u001b[1;32m   1100\u001b[0m     \u001b[38;5;28;01mif\u001b[39;00m old_interface \u001b[38;5;241m==\u001b[39m \u001b[38;5;124m\"\u001b[39m\u001b[38;5;124mauto\u001b[39m\u001b[38;5;124m\"\u001b[39m:\n",
      "File \u001b[0;32m/opt/anaconda3/envs/py12/lib/python3.12/site-packages/pennylane/workflow/qnode.py:1052\u001b[0m, in \u001b[0;36mQNode._execution_component\u001b[0;34m(self, args, kwargs, override_shots)\u001b[0m\n\u001b[1;32m   1049\u001b[0m full_transform_program\u001b[38;5;241m.\u001b[39mprune_dynamic_transform()\n\u001b[1;32m   1051\u001b[0m \u001b[38;5;66;03m# pylint: disable=unexpected-keyword-arg\u001b[39;00m\n\u001b[0;32m-> 1052\u001b[0m res \u001b[38;5;241m=\u001b[39m qml\u001b[38;5;241m.\u001b[39mexecute(\n\u001b[1;32m   1053\u001b[0m     (\u001b[38;5;28mself\u001b[39m\u001b[38;5;241m.\u001b[39m_tape,),\n\u001b[1;32m   1054\u001b[0m     device\u001b[38;5;241m=\u001b[39m\u001b[38;5;28mself\u001b[39m\u001b[38;5;241m.\u001b[39mdevice,\n\u001b[1;32m   1055\u001b[0m     gradient_fn\u001b[38;5;241m=\u001b[39m\u001b[38;5;28mself\u001b[39m\u001b[38;5;241m.\u001b[39mgradient_fn,\n\u001b[1;32m   1056\u001b[0m     interface\u001b[38;5;241m=\u001b[39m\u001b[38;5;28mself\u001b[39m\u001b[38;5;241m.\u001b[39minterface,\n\u001b[1;32m   1057\u001b[0m     transform_program\u001b[38;5;241m=\u001b[39mfull_transform_program,\n\u001b[1;32m   1058\u001b[0m     config\u001b[38;5;241m=\u001b[39mconfig,\n\u001b[1;32m   1059\u001b[0m     gradient_kwargs\u001b[38;5;241m=\u001b[39m\u001b[38;5;28mself\u001b[39m\u001b[38;5;241m.\u001b[39mgradient_kwargs,\n\u001b[1;32m   1060\u001b[0m     override_shots\u001b[38;5;241m=\u001b[39moverride_shots,\n\u001b[1;32m   1061\u001b[0m     \u001b[38;5;241m*\u001b[39m\u001b[38;5;241m*\u001b[39m\u001b[38;5;28mself\u001b[39m\u001b[38;5;241m.\u001b[39mexecute_kwargs,\n\u001b[1;32m   1062\u001b[0m )\n\u001b[1;32m   1063\u001b[0m res \u001b[38;5;241m=\u001b[39m res[\u001b[38;5;241m0\u001b[39m]\n\u001b[1;32m   1065\u001b[0m \u001b[38;5;66;03m# convert result to the interface in case the qfunc has no parameters\u001b[39;00m\n",
      "File \u001b[0;32m/opt/anaconda3/envs/py12/lib/python3.12/site-packages/pennylane/workflow/execution.py:792\u001b[0m, in \u001b[0;36mexecute\u001b[0;34m(tapes, device, gradient_fn, interface, transform_program, config, grad_on_execution, gradient_kwargs, cache, cachesize, max_diff, override_shots, expand_fn, max_expansion, device_batch_transform, device_vjp)\u001b[0m\n\u001b[1;32m    784\u001b[0m ml_boundary_execute \u001b[38;5;241m=\u001b[39m _get_ml_boundary_execute(\n\u001b[1;32m    785\u001b[0m     interface,\n\u001b[1;32m    786\u001b[0m     _grad_on_execution,\n\u001b[1;32m    787\u001b[0m     config\u001b[38;5;241m.\u001b[39muse_device_jacobian_product,\n\u001b[1;32m    788\u001b[0m     differentiable\u001b[38;5;241m=\u001b[39mmax_diff \u001b[38;5;241m>\u001b[39m \u001b[38;5;241m1\u001b[39m,\n\u001b[1;32m    789\u001b[0m )\n\u001b[1;32m    791\u001b[0m \u001b[38;5;28;01mif\u001b[39;00m interface \u001b[38;5;129;01min\u001b[39;00m jpc_interfaces:\n\u001b[0;32m--> 792\u001b[0m     results \u001b[38;5;241m=\u001b[39m ml_boundary_execute(tapes, execute_fn, jpc, device\u001b[38;5;241m=\u001b[39mdevice)\n\u001b[1;32m    793\u001b[0m \u001b[38;5;28;01melse\u001b[39;00m:\n\u001b[1;32m    794\u001b[0m     results \u001b[38;5;241m=\u001b[39m ml_boundary_execute(\n\u001b[1;32m    795\u001b[0m         tapes, device, execute_fn, gradient_fn, gradient_kwargs, _n\u001b[38;5;241m=\u001b[39m\u001b[38;5;241m1\u001b[39m, max_diff\u001b[38;5;241m=\u001b[39mmax_diff\n\u001b[1;32m    796\u001b[0m     )\n",
      "File \u001b[0;32m/opt/anaconda3/envs/py12/lib/python3.12/site-packages/pennylane/workflow/interfaces/autograd.py:147\u001b[0m, in \u001b[0;36mautograd_execute\u001b[0;34m(tapes, execute_fn, jpc, device)\u001b[0m\n\u001b[1;32m    142\u001b[0m \u001b[38;5;66;03m# pylint misidentifies autograd.builtins as a dict\u001b[39;00m\n\u001b[1;32m    143\u001b[0m \u001b[38;5;66;03m# pylint: disable=no-member\u001b[39;00m\n\u001b[1;32m    144\u001b[0m parameters \u001b[38;5;241m=\u001b[39m autograd\u001b[38;5;241m.\u001b[39mbuiltins\u001b[38;5;241m.\u001b[39mtuple(\n\u001b[1;32m    145\u001b[0m     [autograd\u001b[38;5;241m.\u001b[39mbuiltins\u001b[38;5;241m.\u001b[39mlist(t\u001b[38;5;241m.\u001b[39mget_parameters()) \u001b[38;5;28;01mfor\u001b[39;00m t \u001b[38;5;129;01min\u001b[39;00m tapes]\n\u001b[1;32m    146\u001b[0m )\n\u001b[0;32m--> 147\u001b[0m \u001b[38;5;28;01mreturn\u001b[39;00m _execute(parameters, \u001b[38;5;28mtuple\u001b[39m(tapes), execute_fn, jpc)\n",
      "File \u001b[0;32m/opt/anaconda3/envs/py12/lib/python3.12/site-packages/autograd/tracer.py:48\u001b[0m, in \u001b[0;36mprimitive.<locals>.f_wrapped\u001b[0;34m(*args, **kwargs)\u001b[0m\n\u001b[1;32m     46\u001b[0m     \u001b[38;5;28;01mreturn\u001b[39;00m new_box(ans, trace, node)\n\u001b[1;32m     47\u001b[0m \u001b[38;5;28;01melse\u001b[39;00m:\n\u001b[0;32m---> 48\u001b[0m     \u001b[38;5;28;01mreturn\u001b[39;00m f_raw(\u001b[38;5;241m*\u001b[39margs, \u001b[38;5;241m*\u001b[39m\u001b[38;5;241m*\u001b[39mkwargs)\n",
      "File \u001b[0;32m/opt/anaconda3/envs/py12/lib/python3.12/site-packages/pennylane/workflow/interfaces/autograd.py:168\u001b[0m, in \u001b[0;36m_execute\u001b[0;34m(parameters, tapes, execute_fn, jpc)\u001b[0m\n\u001b[1;32m    150\u001b[0m \u001b[38;5;129m@autograd\u001b[39m\u001b[38;5;241m.\u001b[39mextend\u001b[38;5;241m.\u001b[39mprimitive\n\u001b[1;32m    151\u001b[0m \u001b[38;5;28;01mdef\u001b[39;00m \u001b[38;5;21m_execute\u001b[39m(\n\u001b[1;32m    152\u001b[0m     parameters,\n\u001b[0;32m   (...)\u001b[0m\n\u001b[1;32m    155\u001b[0m     jpc,\n\u001b[1;32m    156\u001b[0m ):  \u001b[38;5;66;03m# pylint: disable=unused-argument\u001b[39;00m\n\u001b[1;32m    157\u001b[0m \u001b[38;5;250m    \u001b[39m\u001b[38;5;124;03m\"\"\"Autodifferentiable wrapper around a way of executing tapes.\u001b[39;00m\n\u001b[1;32m    158\u001b[0m \n\u001b[1;32m    159\u001b[0m \u001b[38;5;124;03m    Args:\u001b[39;00m\n\u001b[0;32m   (...)\u001b[0m\n\u001b[1;32m    166\u001b[0m \n\u001b[1;32m    167\u001b[0m \u001b[38;5;124;03m    \"\"\"\u001b[39;00m\n\u001b[0;32m--> 168\u001b[0m     \u001b[38;5;28;01mreturn\u001b[39;00m execute_fn(tapes)\n",
      "File \u001b[0;32m/opt/anaconda3/envs/py12/lib/python3.12/site-packages/pennylane/workflow/execution.py:297\u001b[0m, in \u001b[0;36m_make_inner_execute.<locals>.inner_execute\u001b[0;34m(tapes, **_)\u001b[0m\n\u001b[1;32m    294\u001b[0m transformed_tapes, transform_post_processing \u001b[38;5;241m=\u001b[39m transform_program(tapes)\n\u001b[1;32m    296\u001b[0m \u001b[38;5;28;01mif\u001b[39;00m transformed_tapes:\n\u001b[0;32m--> 297\u001b[0m     results \u001b[38;5;241m=\u001b[39m device_execution(transformed_tapes)\n\u001b[1;32m    298\u001b[0m \u001b[38;5;28;01melse\u001b[39;00m:\n\u001b[1;32m    299\u001b[0m     results \u001b[38;5;241m=\u001b[39m ()\n",
      "File \u001b[0;32m/opt/anaconda3/envs/py12/lib/python3.12/contextlib.py:81\u001b[0m, in \u001b[0;36mContextDecorator.__call__.<locals>.inner\u001b[0;34m(*args, **kwds)\u001b[0m\n\u001b[1;32m     78\u001b[0m \u001b[38;5;129m@wraps\u001b[39m(func)\n\u001b[1;32m     79\u001b[0m \u001b[38;5;28;01mdef\u001b[39;00m \u001b[38;5;21minner\u001b[39m(\u001b[38;5;241m*\u001b[39margs, \u001b[38;5;241m*\u001b[39m\u001b[38;5;241m*\u001b[39mkwds):\n\u001b[1;32m     80\u001b[0m     \u001b[38;5;28;01mwith\u001b[39;00m \u001b[38;5;28mself\u001b[39m\u001b[38;5;241m.\u001b[39m_recreate_cm():\n\u001b[0;32m---> 81\u001b[0m         \u001b[38;5;28;01mreturn\u001b[39;00m func(\u001b[38;5;241m*\u001b[39margs, \u001b[38;5;241m*\u001b[39m\u001b[38;5;241m*\u001b[39mkwds)\n",
      "File \u001b[0;32m/opt/anaconda3/envs/py12/lib/python3.12/site-packages/pennylane_qiskit/qiskit_device.py:491\u001b[0m, in \u001b[0;36mQiskitDevice.batch_execute\u001b[0;34m(self, circuits, timeout)\u001b[0m\n\u001b[1;32m    488\u001b[0m \u001b[38;5;28;01mdef\u001b[39;00m \u001b[38;5;21mbatch_execute\u001b[39m(\u001b[38;5;28mself\u001b[39m, circuits, timeout: \u001b[38;5;28mint\u001b[39m \u001b[38;5;241m=\u001b[39m \u001b[38;5;28;01mNone\u001b[39;00m):\n\u001b[1;32m    489\u001b[0m \u001b[38;5;250m    \u001b[39m\u001b[38;5;124;03m\"\"\"Batch execute the circuits on the device\"\"\"\u001b[39;00m\n\u001b[0;32m--> 491\u001b[0m     compiled_circuits \u001b[38;5;241m=\u001b[39m \u001b[38;5;28mself\u001b[39m\u001b[38;5;241m.\u001b[39mcompile_circuits(circuits)\n\u001b[1;32m    493\u001b[0m     \u001b[38;5;28;01mif\u001b[39;00m \u001b[38;5;129;01mnot\u001b[39;00m compiled_circuits:\n\u001b[1;32m    494\u001b[0m         \u001b[38;5;66;03m# At least one circuit must always be provided to the backend.\u001b[39;00m\n\u001b[1;32m    495\u001b[0m         \u001b[38;5;28;01mreturn\u001b[39;00m []\n",
      "File \u001b[0;32m/opt/anaconda3/envs/py12/lib/python3.12/site-packages/pennylane_qiskit/qiskit_device.py:480\u001b[0m, in \u001b[0;36mQiskitDevice.compile_circuits\u001b[0;34m(self, circuits)\u001b[0m\n\u001b[1;32m    476\u001b[0m \u001b[38;5;28;01mfor\u001b[39;00m circuit \u001b[38;5;129;01min\u001b[39;00m circuits:\n\u001b[1;32m    477\u001b[0m     \u001b[38;5;66;03m# We need to reset the device here, else it will\u001b[39;00m\n\u001b[1;32m    478\u001b[0m     \u001b[38;5;66;03m# not start the next computation in the zero state\u001b[39;00m\n\u001b[1;32m    479\u001b[0m     \u001b[38;5;28mself\u001b[39m\u001b[38;5;241m.\u001b[39mreset()\n\u001b[0;32m--> 480\u001b[0m     \u001b[38;5;28mself\u001b[39m\u001b[38;5;241m.\u001b[39mcreate_circuit_object(circuit\u001b[38;5;241m.\u001b[39moperations, rotations\u001b[38;5;241m=\u001b[39mcircuit\u001b[38;5;241m.\u001b[39mdiagonalizing_gates)\n\u001b[1;32m    482\u001b[0m     compiled_circ \u001b[38;5;241m=\u001b[39m \u001b[38;5;28mself\u001b[39m\u001b[38;5;241m.\u001b[39mcompile()\n\u001b[1;32m    483\u001b[0m     compiled_circ\u001b[38;5;241m.\u001b[39mname \u001b[38;5;241m=\u001b[39m \u001b[38;5;124mf\u001b[39m\u001b[38;5;124m\"\u001b[39m\u001b[38;5;124mcirc\u001b[39m\u001b[38;5;132;01m{\u001b[39;00m\u001b[38;5;28mlen\u001b[39m(compiled_circuits)\u001b[38;5;132;01m}\u001b[39;00m\u001b[38;5;124m\"\u001b[39m\n",
      "File \u001b[0;32m/opt/anaconda3/envs/py12/lib/python3.12/site-packages/pennylane_qiskit/qiskit_device.py:292\u001b[0m, in \u001b[0;36mQiskitDevice.create_circuit_object\u001b[0;34m(self, operations, **kwargs)\u001b[0m\n\u001b[1;32m    280\u001b[0m \u001b[38;5;250m\u001b[39m\u001b[38;5;124;03m\"\"\"Builds the circuit objects based on the operations and measurements\u001b[39;00m\n\u001b[1;32m    281\u001b[0m \u001b[38;5;124;03mspecified to apply.\u001b[39;00m\n\u001b[1;32m    282\u001b[0m \n\u001b[0;32m   (...)\u001b[0m\n\u001b[1;32m    288\u001b[0m \u001b[38;5;124;03m        pre-measurement into the eigenbasis of the observables.\u001b[39;00m\n\u001b[1;32m    289\u001b[0m \u001b[38;5;124;03m\"\"\"\u001b[39;00m\n\u001b[1;32m    290\u001b[0m rotations \u001b[38;5;241m=\u001b[39m kwargs\u001b[38;5;241m.\u001b[39mget(\u001b[38;5;124m\"\u001b[39m\u001b[38;5;124mrotations\u001b[39m\u001b[38;5;124m\"\u001b[39m, [])\n\u001b[0;32m--> 292\u001b[0m applied_operations \u001b[38;5;241m=\u001b[39m \u001b[38;5;28mself\u001b[39m\u001b[38;5;241m.\u001b[39mapply_operations(operations)\n\u001b[1;32m    294\u001b[0m \u001b[38;5;66;03m# Rotating the state for measurement in the computational basis\u001b[39;00m\n\u001b[1;32m    295\u001b[0m rotation_circuits \u001b[38;5;241m=\u001b[39m \u001b[38;5;28mself\u001b[39m\u001b[38;5;241m.\u001b[39mapply_operations(rotations)\n",
      "File \u001b[0;32m/opt/anaconda3/envs/py12/lib/python3.12/site-packages/pennylane_qiskit/qiskit_device.py:357\u001b[0m, in \u001b[0;36mQiskitDevice.apply_operations\u001b[0;34m(self, operations)\u001b[0m\n\u001b[1;32m    353\u001b[0m \u001b[38;5;28;01mif\u001b[39;00m operation \u001b[38;5;129;01min\u001b[39;00m (\u001b[38;5;124m\"\u001b[39m\u001b[38;5;124mBarrier\u001b[39m\u001b[38;5;124m\"\u001b[39m,):\n\u001b[1;32m    354\u001b[0m     \u001b[38;5;66;03m# Need to add the num_qubits for instantiating Barrier in Qiskit\u001b[39;00m\n\u001b[1;32m    355\u001b[0m     par \u001b[38;5;241m=\u001b[39m [\u001b[38;5;28mlen\u001b[39m(\u001b[38;5;28mself\u001b[39m\u001b[38;5;241m.\u001b[39m_reg)]\n\u001b[0;32m--> 357\u001b[0m dag \u001b[38;5;241m=\u001b[39m circuit_to_dag(QuantumCircuit(\u001b[38;5;28mself\u001b[39m\u001b[38;5;241m.\u001b[39m_reg, \u001b[38;5;28mself\u001b[39m\u001b[38;5;241m.\u001b[39m_creg, name\u001b[38;5;241m=\u001b[39m\u001b[38;5;124m\"\u001b[39m\u001b[38;5;124m\"\u001b[39m))\n\u001b[1;32m    359\u001b[0m gate \u001b[38;5;241m=\u001b[39m mapped_operation(\u001b[38;5;241m*\u001b[39mpar)\n\u001b[1;32m    361\u001b[0m dag\u001b[38;5;241m.\u001b[39mapply_operation_back(gate, qargs\u001b[38;5;241m=\u001b[39mqregs)\n",
      "File \u001b[0;32m/opt/anaconda3/envs/py12/lib/python3.12/site-packages/qiskit/converters/circuit_to_dag.py:59\u001b[0m, in \u001b[0;36mcircuit_to_dag\u001b[0;34m(circuit, copy_operations, qubit_order, clbit_order)\u001b[0m\n\u001b[1;32m     19\u001b[0m \u001b[38;5;28;01mdef\u001b[39;00m \u001b[38;5;21mcircuit_to_dag\u001b[39m(circuit, copy_operations\u001b[38;5;241m=\u001b[39m\u001b[38;5;28;01mTrue\u001b[39;00m, \u001b[38;5;241m*\u001b[39m, qubit_order\u001b[38;5;241m=\u001b[39m\u001b[38;5;28;01mNone\u001b[39;00m, clbit_order\u001b[38;5;241m=\u001b[39m\u001b[38;5;28;01mNone\u001b[39;00m):\n\u001b[1;32m     20\u001b[0m \u001b[38;5;250m    \u001b[39m\u001b[38;5;124;03m\"\"\"Build a :class:`.DAGCircuit` object from a :class:`.QuantumCircuit`.\u001b[39;00m\n\u001b[1;32m     21\u001b[0m \n\u001b[1;32m     22\u001b[0m \u001b[38;5;124;03m    Args:\u001b[39;00m\n\u001b[0;32m   (...)\u001b[0m\n\u001b[1;32m     57\u001b[0m \u001b[38;5;124;03m            dag = circuit_to_dag(circ)\u001b[39;00m\n\u001b[1;32m     58\u001b[0m \u001b[38;5;124;03m    \"\"\"\u001b[39;00m\n\u001b[0;32m---> 59\u001b[0m     dagcircuit \u001b[38;5;241m=\u001b[39m DAGCircuit()\n\u001b[1;32m     60\u001b[0m     dagcircuit\u001b[38;5;241m.\u001b[39mname \u001b[38;5;241m=\u001b[39m circuit\u001b[38;5;241m.\u001b[39mname\n\u001b[1;32m     61\u001b[0m     dagcircuit\u001b[38;5;241m.\u001b[39mglobal_phase \u001b[38;5;241m=\u001b[39m circuit\u001b[38;5;241m.\u001b[39mglobal_phase\n",
      "File \u001b[0;32m/opt/anaconda3/envs/py12/lib/python3.12/site-packages/qiskit/dagcircuit/dagcircuit.py:137\u001b[0m, in \u001b[0;36mDAGCircuit.__init__\u001b[0;34m(self)\u001b[0m\n\u001b[1;32m    133\u001b[0m \u001b[38;5;28mself\u001b[39m\u001b[38;5;241m.\u001b[39m_vars_info: \u001b[38;5;28mdict\u001b[39m[\u001b[38;5;28mstr\u001b[39m, _DAGVarInfo] \u001b[38;5;241m=\u001b[39m {}\n\u001b[1;32m    134\u001b[0m \u001b[38;5;66;03m# Convenience stateful tracking for the individual types of nodes to allow things like\u001b[39;00m\n\u001b[1;32m    135\u001b[0m \u001b[38;5;66;03m# comparisons between circuits to take place without needing to disambiguate the\u001b[39;00m\n\u001b[1;32m    136\u001b[0m \u001b[38;5;66;03m# graph-specific usage information.\u001b[39;00m\n\u001b[0;32m--> 137\u001b[0m \u001b[38;5;28mself\u001b[39m\u001b[38;5;241m.\u001b[39m_vars_by_type: \u001b[38;5;28mdict\u001b[39m[_DAGVarType, \u001b[38;5;28mset\u001b[39m[expr\u001b[38;5;241m.\u001b[39mVar]] \u001b[38;5;241m=\u001b[39m {\n\u001b[1;32m    138\u001b[0m     type_: \u001b[38;5;28mset\u001b[39m() \u001b[38;5;28;01mfor\u001b[39;00m type_ \u001b[38;5;129;01min\u001b[39;00m _DAGVarType\n\u001b[1;32m    139\u001b[0m }\n\u001b[1;32m    141\u001b[0m \u001b[38;5;28mself\u001b[39m\u001b[38;5;241m.\u001b[39m_global_phase: \u001b[38;5;28mfloat\u001b[39m \u001b[38;5;241m|\u001b[39m ParameterExpression \u001b[38;5;241m=\u001b[39m \u001b[38;5;241m0.0\u001b[39m\n\u001b[1;32m    142\u001b[0m \u001b[38;5;28mself\u001b[39m\u001b[38;5;241m.\u001b[39m_calibrations: \u001b[38;5;28mdict\u001b[39m[\u001b[38;5;28mstr\u001b[39m, \u001b[38;5;28mdict\u001b[39m[\u001b[38;5;28mtuple\u001b[39m, Schedule]] \u001b[38;5;241m=\u001b[39m defaultdict(\u001b[38;5;28mdict\u001b[39m)\n",
      "File \u001b[0;32m/opt/anaconda3/envs/py12/lib/python3.12/enum.py:820\u001b[0m, in \u001b[0;36m<genexpr>\u001b[0;34m(.0)\u001b[0m\n\u001b[1;32m    816\u001b[0m \u001b[38;5;28;01mdef\u001b[39;00m \u001b[38;5;21m__iter__\u001b[39m(\u001b[38;5;28mcls\u001b[39m):\n\u001b[1;32m    817\u001b[0m \u001b[38;5;250m    \u001b[39m\u001b[38;5;124;03m\"\"\"\u001b[39;00m\n\u001b[1;32m    818\u001b[0m \u001b[38;5;124;03m    Return members in definition order.\u001b[39;00m\n\u001b[1;32m    819\u001b[0m \u001b[38;5;124;03m    \"\"\"\u001b[39;00m\n\u001b[0;32m--> 820\u001b[0m     \u001b[38;5;28;01mreturn\u001b[39;00m (\u001b[38;5;28mcls\u001b[39m\u001b[38;5;241m.\u001b[39m_member_map_[name] \u001b[38;5;28;01mfor\u001b[39;00m name \u001b[38;5;129;01min\u001b[39;00m \u001b[38;5;28mcls\u001b[39m\u001b[38;5;241m.\u001b[39m_member_names_)\n",
      "\u001b[0;31mKeyboardInterrupt\u001b[0m: "
     ]
    }
   ],
   "source": [
    "# testing without for loop - only on one error\n",
    "\n",
    "# Error set definition\n",
    "error_Set = [10**i for i in np.arange(-4.5, -0.9, 0.1)]\n",
    "\n",
    "# for i_Set in range(len(error_Set)-1,-1,-1):\n",
    "for i_Set in range(35,34,-1):\n",
    "    # print(i_Set)\n",
    "    gate_error = error_Set[i_Set]\n",
    "    noise_model = setNoise(0.03, 0.04413, gate_error)\n",
    "    dev_noisy = qml.device('qiskit.aer', wires=2, noise_model=noise_model)\n",
    "    \n",
    "    @qml.qnode(dev_noisy) \n",
    "    def noisy_circuit(weights, x):\n",
    "        state_preparation(x)\n",
    "        for wire in range(2):\n",
    "            qml.Hadamard(wires=wire)\n",
    "\n",
    "        for layer_weights in weights:\n",
    "            layer(layer_weights)\n",
    "\n",
    "        # Additional entangling and non-parameteric gates for expressibility \n",
    "        for i in range(2): \n",
    "             qml.CZ(wires=[i, (i+1) % 2]) \n",
    "        for i in range(2): \n",
    "             qml.S(wires=i)  \n",
    "        return qml.expval(qml.PauliZ(0))\n",
    "\n",
    "    def variational_classifier_noisy(weights, bias, x):\n",
    "        return noisy_circuit(weights, x) + bias\n",
    "    \n",
    "    def cost_noisy(weights, bias, X, Y):\n",
    "        predictions = variational_classifier_noisy(weights, bias, X.T)\n",
    "        return square_loss(Y, predictions)\n",
    "    \n",
    "    # Train the QNN with noisy device\n",
    "    for i in range(10):\n",
    "        # print(i+1)\n",
    "        # Update weights by one optimizer step\n",
    "        batch_index = np.random.randint(0, num_train, (batch_size,))\n",
    "        feats_batch = feats_train[batch_index]\n",
    "        clusters_batch = clusters_train[batch_index]\n",
    "\n",
    "        # using datetime module\n",
    "        import datetime;\n",
    " \n",
    "        print(\"before opt: \", datetime.datetime.now()) # print time before\n",
    "        \n",
    "        weights, bias, _, __ = opt.step(cost_noisy, weights, bias, feats_batch, clusters_batch)\n",
    "\n",
    "        print(\"after opt: \", datetime.datetime.now()) # print time before\n",
    "\n",
    "        # Compute accuracy\n",
    "        predictions_train = [np.sign(variational_classifier_noisy(weights, bias, x)) for x in feats_train]\n",
    "        predictions_val = [np.sign(variational_classifier_noisy(weights, bias, x)) for x in feats_val]\n",
    "        acc_train = accuracy(clusters_train, predictions_train)\n",
    "        acc_val = accuracy(clusters_val, predictions_val)\n",
    "\n",
    "        print(f\" Iter: {i+1} | Gate Error: {gate_error} | Cost: {cost_noisy(weights, bias, features, clusters):.7f} | Accuracy: {acc_train:.7f} | Val Acc: {acc_val:.7f}\")"
   ]
  },
  {
   "cell_type": "code",
   "execution_count": 17,
   "id": "d9d26a4b-adb6-4ca4-b4a9-9a6031388965",
   "metadata": {},
   "outputs": [
    {
     "name": "stdout",
     "output_type": "stream",
     "text": [
      "0.95703125\n"
     ]
    }
   ],
   "source": [
    "# FROM PENNYLANE DOCUMENTATION\n",
    "# import pennylane as qml\n",
    "\n",
    "# import qiskit\n",
    "from qiskit_aer import noise\n",
    "\n",
    "# Error probabilities\n",
    "prob_1 = 0.001  # 1-qubit gate\n",
    "prob_2 = 0.01   # 2-qubit gate\n",
    "\n",
    "# Depolarizing quantum errors\n",
    "error_1 = noise.depolarizing_error(prob_1, 1)\n",
    "error_2 = noise.depolarizing_error(prob_2, 2)\n",
    "\n",
    "# Add errors to noise model\n",
    "noise_model = noise.NoiseModel()\n",
    "noise_model.add_all_qubit_quantum_error(error_1, ['u1', 'u2', 'u3'])\n",
    "noise_model.add_all_qubit_quantum_error(error_2, ['cx'])\n",
    "\n",
    "# Create a PennyLane device\n",
    "dev = qml.device('qiskit.aer', wires=2, noise_model=noise_model)\n",
    "\n",
    "# Create a PennyLane quantum node run on the device\n",
    "@qml.qnode(dev)\n",
    "def circuit(x, y, z):\n",
    "    qml.RZ(z, wires=[0])\n",
    "    qml.RY(y, wires=[0])\n",
    "    qml.RX(x, wires=[0])\n",
    "    qml.CNOT(wires=[0, 1])\n",
    "    return qml.expval(qml.PauliZ(wires=1))\n",
    "\n",
    "# Result of noisy simulator\n",
    "print(circuit(0.2, 0.1, 0.3))"
   ]
  },
  {
   "cell_type": "code",
   "execution_count": null,
   "id": "87c1ff39-9e5f-42f1-b531-ad73aeecee33",
   "metadata": {},
   "outputs": [],
   "source": []
  }
 ],
 "metadata": {
  "kernelspec": {
   "display_name": "Python 3 (ipykernel)",
   "language": "python",
   "name": "python3"
  },
  "language_info": {
   "codemirror_mode": {
    "name": "ipython",
    "version": 3
   },
   "file_extension": ".py",
   "mimetype": "text/x-python",
   "name": "python",
   "nbconvert_exporter": "python",
   "pygments_lexer": "ipython3",
   "version": "3.12.4"
  }
 },
 "nbformat": 4,
 "nbformat_minor": 5
}
