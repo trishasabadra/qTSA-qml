{
 "cells": [
  {
   "cell_type": "code",
   "execution_count": 1,
   "id": "927cab77-39da-4b6f-b3eb-93301438c80e",
   "metadata": {},
   "outputs": [],
   "source": [
    "%matplotlib inline"
   ]
  },
  {
   "cell_type": "code",
   "execution_count": 4,
   "id": "d365d2ca-f277-4d54-b090-c860a7d7fc6f",
   "metadata": {},
   "outputs": [],
   "source": [
    "import pennylane as qml\n",
    "from pennylane import numpy as np\n",
    "from qiskit_aer.noise import NoiseModel, QuantumError, pauli_error\n",
    "from pennylane.optimize import NesterovMomentumOptimizer"
   ]
  },
  {
   "cell_type": "code",
   "execution_count": 5,
   "id": "56cff7a0-3dc8-4ed5-9363-a74011085407",
   "metadata": {},
   "outputs": [],
   "source": [
    "# Ideal device setup\n",
    "dev = qml.device(\"default.qubit\", wires=2)\n",
    "\n",
    "def get_angles(x):\n",
    "    beta0 = 2 * np.arcsin(np.sqrt(x[1] ** 2) / np.sqrt(x[0] ** 2 + x[1] ** 2 + 1e-12))\n",
    "    beta1 = 2 * np.arcsin(np.sqrt(x[3] ** 2) / np.sqrt(x[2] ** 2 + x[3] ** 2 + 1e-12))\n",
    "    beta2 = 2 * np.arcsin(np.linalg.norm(x[2:]) / np.linalg.norm(x))\n",
    "    return np.array([beta2, -beta1 / 2, beta1 / 2, -beta0 / 2, beta0 / 2])\n",
    "\n",
    "def state_preparation(a):\n",
    "    qml.RY(a[0], wires=0)\n",
    "    qml.CNOT(wires=[0, 1])\n",
    "    qml.RY(a[1], wires=1)\n",
    "    qml.CNOT(wires=[0, 1])\n",
    "    qml.RY(a[2], wires=1)\n",
    "    qml.PauliX(wires=0)\n",
    "    qml.CNOT(wires=[0, 1])\n",
    "    qml.RY(a[3], wires=1)\n",
    "    qml.CNOT(wires=[0, 1])\n",
    "    qml.RY(a[4], wires=1)\n",
    "    qml.PauliX(wires=0)"
   ]
  },
  {
   "cell_type": "code",
   "execution_count": 6,
   "id": "bd8bd7da-e130-4020-b0dc-b95741c1408c",
   "metadata": {},
   "outputs": [
    {
     "name": "stdout",
     "output_type": "stream",
     "text": [
      "x               :  [0.4746 0.661  0.1    0.1   ]\n",
      "angles          :  [ 0.344148 -0.785398  0.785398 -0.94809   0.94809 ]\n",
      "amplitude vector:  [0.574623 0.800307 0.121075 0.121075]\n"
     ]
    }
   ],
   "source": [
    "# testing if routine works\n",
    "x = np.array([0.4746, 0.6610, 0.1, 0.1], requires_grad=False)\n",
    "ang = get_angles(x)\n",
    "\n",
    "@qml.qnode(dev)\n",
    "def test(angles):\n",
    "    state_preparation(angles)\n",
    "    return qml.state()\n",
    "\n",
    "state = test(ang)\n",
    "\n",
    "print(\"x               : \", np.round(x, 6))\n",
    "print(\"angles          : \", np.round(ang, 6))\n",
    "print(\"amplitude vector: \", np.round(np.real(state), 6))"
   ]
  },
  {
   "cell_type": "code",
   "execution_count": 7,
   "id": "880a0fb7-a6da-4942-b9ed-f51d9cb57fd2",
   "metadata": {},
   "outputs": [],
   "source": [
    "def layer(layer_weights):\n",
    "    for wire in range(2):\n",
    "        qml.Rot(*layer_weights[wire], wires=wire)\n",
    "    qml.CNOT(wires=[0, 1])"
   ]
  },
  {
   "cell_type": "code",
   "execution_count": 8,
   "id": "88d6abdc-902a-4506-b611-0efdbd1b5acb",
   "metadata": {},
   "outputs": [],
   "source": [
    "# Cost function\n",
    "def square_loss(labels, predictions):\n",
    "    return np.mean((labels - qml.math.stack(predictions)) ** 2)\n",
    "\n",
    "def accuracy(labels, predictions):\n",
    "    acc = sum(abs(l - p) < 1e-5 for l, p in zip(labels, predictions))\n",
    "    acc = acc / len(labels)\n",
    "    return acc"
   ]
  },
  {
   "cell_type": "code",
   "execution_count": null,
   "id": "2697f63c-6c7f-424f-8b55-28cb90b16d32",
   "metadata": {},
   "outputs": [],
   "source": [
    "# Load and preprocess data\n",
    "data = np.loadtxt(\"trainX.txt\")\n",
    "X = data[:, 0:2]\n",
    "padding = np.ones((len(X), 2)) * 0.1\n",
    "X_pad = np.c_[X, padding]\n",
    "normalization = np.sqrt(np.sum(X_pad**2, -1))\n",
    "X_norm = (X_pad.T / normalization).T\n",
    "features = np.array([get_angles(x) for x in X_norm], requires_grad=False)\n",
    "\n",
    "Y = np.loadtxt(\"trainY.txt\")\n",
    "Y = np.where(Y == 0, -1.0, 1.0)"
   ]
  },
  {
   "cell_type": "code",
   "execution_count": null,
   "id": "a8867599-b172-41c5-ba76-1b01d680023d",
   "metadata": {},
   "outputs": [],
   "source": [
    "# Apply k-means clustering\n",
    "from sklearn.cluster import KMeans\n",
    "\n",
    "kmeans = KMeans(n_clusters=2, random_state=42)\n",
    "kmeans.fit(X)\n",
    "clusters = kmeans.labels_\n",
    "clusters = np.where(clusters == 0, -1.0, 1.0)"
   ]
  },
  {
   "cell_type": "code",
   "execution_count": null,
   "id": "df34f9fa-e432-4956-8ccc-16a66774ff9d",
   "metadata": {},
   "outputs": [],
   "source": [
    "# import matplotlib.pyplot as plt\n",
    "\n",
    "# plt.figure()\n",
    "# plt.scatter(X[:, 0][Y == 1], X[:, 1][Y == 1], c=\"b\", marker=\"o\", ec=\"k\", label='Stable (Actual)')\n",
    "# plt.scatter(X[:, 0][Y == -1], X[:, 1][Y == -1], c=\"r\", marker=\"o\", ec=\"k\", label='Unstable (Actual)')\n",
    "# plt.title(\"Original Data\")\n",
    "# plt.legend()\n",
    "# plt.show()\n",
    "\n",
    "# plt.figure()\n",
    "# plt.scatter(X[:, 0][clusters == 1], X[:, 1][clusters == 1], c=\"b\", marker=\"o\", ec=\"k\", label='Cluster 0')\n",
    "# plt.scatter(X[:, 0][clusters == -1], X[:, 1][clusters == -1], c=\"r\", marker=\"o\", ec=\"k\", label='Cluster 1')\n",
    "# plt.title(\"K-means Clustered Data\")\n",
    "# plt.legend()\n",
    "# plt.show()"
   ]
  },
  {
   "cell_type": "code",
   "execution_count": null,
   "id": "0fe80621-5d2a-4272-a319-af905a64bdad",
   "metadata": {},
   "outputs": [],
   "source": [
    "# Split data into training and validation sets\n",
    "np.random.seed(0)\n",
    "num_data = len(clusters)\n",
    "num_train = int(0.75 * num_data)\n",
    "index = np.random.permutation(range(num_data))\n",
    "\n",
    "feats_train = features[index[:num_train]]\n",
    "clusters_train = clusters[index[:num_train]]\n",
    "feats_val = features[index[num_train:]]\n",
    "clusters_val = clusters[index[num_train:]]\n",
    "\n",
    "X_train = X[index[:num_train]]\n",
    "X_val = X[index[num_train:]]"
   ]
  },
  {
   "cell_type": "code",
   "execution_count": null,
   "id": "26d4f4df-0a28-4a3b-9ad7-b29908c61e97",
   "metadata": {},
   "outputs": [],
   "source": [
    "# Optimization\n",
    "num_qubits = 2\n",
    "num_layers = 6\n",
    "\n",
    "weights_init = 0.01 * np.random.randn(num_layers, num_qubits, 3, requires_grad=True)\n",
    "bias_init = np.array(0.0, requires_grad=True)\n",
    "\n",
    "opt = NesterovMomentumOptimizer(0.5)\n",
    "batch_size = 5\n",
    "\n",
    "weights = weights_init\n",
    "bias = bias_init"
   ]
  },
  {
   "cell_type": "code",
   "execution_count": null,
   "id": "8094310f-e3c9-4431-b27a-310734b36ceb",
   "metadata": {},
   "outputs": [],
   "source": [
    "def setNoise(p_reset, p_meas, p_gate1):\n",
    "    p_reset = float(p_reset)\n",
    "    p_meas = float(p_meas)\n",
    "    p_gate1 = float(p_gate1)\n",
    "    \n",
    "    error_reset = pauli_error([('X', p_reset), ('I', 1 - p_reset)])\n",
    "    error_meas = pauli_error([('X',p_meas), ('I', 1 - p_meas)])\n",
    "    error_gate1 = pauli_error([('X',p_gate1), ('I', 1 - p_gate1)])\n",
    "    error_gate2 = error_gate1.tensor(error_gate1)\n",
    "\n",
    "    noise_model = NoiseModel()\n",
    "    noise_model.add_all_qubit_quantum_error(error_reset, \"reset\")\n",
    "    noise_model.add_all_qubit_quantum_error(error_meas, \"measure\")\n",
    "    noise_model.add_all_qubit_quantum_error(error_gate1, [\"x\", \"y\", \"z\", \"h\", \"s\", \"sdg\", \"t\", \"tdg\", \"rx\", \"ry\", \"rz\", \"p\"])\n",
    "    noise_model.add_all_qubit_quantum_error(error_gate2, [\"cx\", \"cy\", \"cz\", \"swap\", \"rxx\", \"ryy\", \"rzz\", \"rzx\", \"cu1\", \"cu2\", \"cu3\", \"cp\"])\n",
    "    \n",
    "    return noise_model"
   ]
  },
  {
   "cell_type": "code",
   "execution_count": null,
   "id": "a8e32078-67ff-4d15-b4d2-bb945ee54d72",
   "metadata": {},
   "outputs": [],
   "source": [
    "# testing without for loop - only on one error\n",
    "\n",
    "# Error set definition\n",
    "error_Set = [10**i for i in np.arange(-4.5, -0.9, 0.1)]\n",
    "\n",
    "# for i_Set in range(len(error_Set)-1,-1,-1):\n",
    "for i_Set in range(35,34,-1):\n",
    "    gate_error = error_Set[i_Set]\n",
    "    noise_model = setNoise(0.03, 0.04413, gate_error)\n",
    "    dev_noisy = qml.device(\"qiskit.aer\", wires=n_qubits, backend='qasm_simulator', backend_options={\"basis_gates\": noise_model.basis_gates, \"noise_model\": noise_model})\n",
    "    \n",
    "    @qml.qnode(dev_noisy) \n",
    "    def noisy_circuit(weights, x):\n",
    "        state_preparation(x)\n",
    "        for layer_weights in weights:\n",
    "            layer(layer_weights)\n",
    "        return qml.expval(qml.PauliZ(0))\n",
    "\n",
    "    def variational_classifier_noisy(weights, bias, x):\n",
    "        return noisy_circuit(weights, x) + bias\n",
    "    \n",
    "    def cost_noisy(weights, bias, X, Y):\n",
    "        predictions = variational_classifier_noisy(weights, bias, X.T)\n",
    "        return square_loss(Y, predictions)\n",
    "    \n",
    "    # Train the QNN with noisy device\n",
    "    for i in range(100):\n",
    "        # Update weights by one optimizer step\n",
    "        batch_index = np.random.randint(0, num_train, (batch_size,))\n",
    "        feats_batch = feats_train[batch_index]\n",
    "        clusters_batch = clusters_train[batch_index]\n",
    "        weights, bias, _, __ = opt.step(cost_noisy, weights, bias, feats_batch, clusters_batch)\n",
    "\n",
    "        # Compute accuracy\n",
    "        predictions_train = [np.sign(variational_classifier_noisy(weights, bias, x)) for x in feats_train]\n",
    "        predictions_val = [np.sign(variational_classifier_noisy(weights, bias, x)) for x in feats_val]\n",
    "        acc_train = accuracy(clusters_train, predictions_train)\n",
    "        acc_val = accuracy(clusters_val, predictions_val)\n",
    "\n",
    "        print(f\"Iter: {i+1} | Gate Error: {gate_error} | Cost: {cost_noisy(weights, bias, features, clusters):.7f} | Accuracy: {acc_train:.7f} | Val Acc: {acc_val:.7f}\")\n"
   ]
  }
 ],
 "metadata": {
  "kernelspec": {
   "display_name": "Python 3 (ipykernel)",
   "language": "python",
   "name": "python3"
  },
  "language_info": {
   "codemirror_mode": {
    "name": "ipython",
    "version": 3
   },
   "file_extension": ".py",
   "mimetype": "text/x-python",
   "name": "python",
   "nbconvert_exporter": "python",
   "pygments_lexer": "ipython3",
   "version": "3.12.4"
  }
 },
 "nbformat": 4,
 "nbformat_minor": 5
}
