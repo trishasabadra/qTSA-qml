{
 "cells": [
  {
   "cell_type": "code",
   "execution_count": null,
   "id": "d834115e-6088-4bd6-9e68-c60b7019f7be",
   "metadata": {},
   "outputs": [],
   "source": [
    "# source paper: https://arxiv.org/pdf/2203.13848 \n",
    "# supplemental material/ pseudocode: https://journals.aps.org/prresearch/supplemental/10.1103/PhysRevResearch.5.013211/LQ18213W-Supplemental.pdf "
   ]
  },
  {
   "cell_type": "code",
   "execution_count": null,
   "id": "b3e6d9b3-1244-42b0-94fe-e381545833a0",
   "metadata": {},
   "outputs": [],
   "source": []
  }
 ],
 "metadata": {
  "kernelspec": {
   "display_name": "Python 3 (ipykernel)",
   "language": "python",
   "name": "python3"
  },
  "language_info": {
   "codemirror_mode": {
    "name": "ipython",
    "version": 3
   },
   "file_extension": ".py",
   "mimetype": "text/x-python",
   "name": "python",
   "nbconvert_exporter": "python",
   "pygments_lexer": "ipython3",
   "version": "3.12.4"
  }
 },
 "nbformat": 4,
 "nbformat_minor": 5
}
