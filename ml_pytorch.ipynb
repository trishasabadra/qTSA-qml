{
 "cells": [
  {
   "cell_type": "code",
   "execution_count": null,
   "id": "88222edc-9bc7-4268-b2b1-629b4fd15a31",
   "metadata": {},
   "outputs": [],
   "source": [
    "# NOT quantum - machine learning classification code using pytorch"
   ]
  },
  {
   "cell_type": "code",
   "execution_count": 2,
   "id": "f36f6973-867f-4f9c-8064-56551bf1fd2f",
   "metadata": {},
   "outputs": [],
   "source": [
    "import numpy as np\n",
    "import torch\n",
    "import torch.nn as nn\n",
    "import torch.optim as optim\n",
    "\n",
    "# Define your data preprocessing functions\n",
    "def get_angles(x):\n",
    "    beta0 = 2 * np.arcsin(np.sqrt(x[1] ** 2) / np.sqrt(x[0] ** 2 + x[1] ** 2 + 1e-12))\n",
    "    beta1 = 2 * np.arcsin(np.sqrt(x[1] ** 2) / np.sqrt(x[0] ** 2 + x[1] ** 2 + 1e-12))\n",
    "    return np.array([-beta1 / 2, beta1 / 2, -beta0 / 2, beta0 / 2], dtype=np.float32)\n",
    "\n",
    "# Load your data\n",
    "data = np.loadtxt(\"trainX.txt\")\n",
    "X = data[:, 0:2]\n",
    "\n",
    "# Apply angle encoding\n",
    "features = [get_angles(x) for x in X]\n",
    "\n",
    "# Load labels\n",
    "Y = np.loadtxt(\"trainY.txt\")\n",
    "Y = torch.tensor(np.where(Y == 0, -1.0, 1.0), dtype=torch.float32)\n",
    "\n",
    "# Split data into training and validation sets\n",
    "np.random.seed(0)\n",
    "num_data = len(X)\n",
    "num_train = int(0.75 * num_data)\n",
    "index = np.random.permutation(num_data)\n",
    "\n",
    "# Convert to tensor\n",
    "feats_train = torch.tensor([features[i] for i in index[:num_train]], dtype=torch.float32)\n",
    "Y_train = Y[index[:num_train]]\n",
    "feats_val = torch.tensor([features[i] for i in index[num_train:]], dtype=torch.float32)\n",
    "Y_val = Y[index[num_train:]]\n"
   ]
  },
  {
   "cell_type": "code",
   "execution_count": 3,
   "id": "3ccfaf44-e40e-457b-80b3-678e5def5d54",
   "metadata": {},
   "outputs": [],
   "source": [
    "class SimpleNN(nn.Module):\n",
    "    def __init__(self, input_size, hidden_size, output_size):\n",
    "        super(SimpleNN, self).__init__()\n",
    "        self.fc1 = nn.Linear(input_size, hidden_size)\n",
    "        self.relu = nn.ReLU()\n",
    "        self.fc2 = nn.Linear(hidden_size, output_size)\n",
    "    \n",
    "    def forward(self, x):\n",
    "        out = self.fc1(x)\n",
    "        out = self.relu(out)\n",
    "        out = self.fc2(out)\n",
    "        return out\n",
    "\n",
    "# Hyperparameters\n",
    "input_size = 4  # number of input features after angle encoding\n",
    "hidden_size = 10  # number of neurons in the hidden layer\n",
    "output_size = 1  # binary classification\n",
    "num_epochs = 100  # number of epochs\n",
    "learning_rate = 0.001  # learning rate\n"
   ]
  },
  {
   "cell_type": "code",
   "execution_count": 4,
   "id": "4b636c26-76d4-4974-a2c1-62bb27587af9",
   "metadata": {},
   "outputs": [
    {
     "name": "stdout",
     "output_type": "stream",
     "text": [
      "Epoch [10/100], Loss: 1.2261\n",
      "Epoch [20/100], Loss: 1.1687\n",
      "Epoch [30/100], Loss: 1.1263\n",
      "Epoch [40/100], Loss: 1.0936\n",
      "Epoch [50/100], Loss: 1.0678\n",
      "Epoch [60/100], Loss: 1.0472\n",
      "Epoch [70/100], Loss: 1.0314\n",
      "Epoch [80/100], Loss: 1.0186\n",
      "Epoch [90/100], Loss: 1.0094\n",
      "Epoch [100/100], Loss: 1.0031\n"
     ]
    }
   ],
   "source": [
    "# Initialize the model, loss function, and optimizer\n",
    "model = SimpleNN(input_size, hidden_size, output_size)\n",
    "criterion = nn.MSELoss()  # Mean Squared Error for regression-like output\n",
    "optimizer = optim.Adam(model.parameters(), lr=learning_rate)\n",
    "\n",
    "# Train the model\n",
    "for epoch in range(num_epochs):\n",
    "    model.train()\n",
    "    # Forward pass\n",
    "    outputs = model(feats_train)\n",
    "    loss = criterion(outputs.squeeze(), Y_train)\n",
    "    \n",
    "    # Backward pass and optimization\n",
    "    optimizer.zero_grad()\n",
    "    loss.backward()\n",
    "    optimizer.step()\n",
    "    \n",
    "    if (epoch+1) % 10 == 0:\n",
    "        print(f'Epoch [{epoch+1}/{num_epochs}], Loss: {loss.item():.4f}')"
   ]
  },
  {
   "cell_type": "code",
   "execution_count": 5,
   "id": "2b8382a6-07d0-4f5d-aa2a-b1ace2a1b6e6",
   "metadata": {},
   "outputs": [
    {
     "name": "stdout",
     "output_type": "stream",
     "text": [
      "Training Loss: 1.0025, Training Accuracy: 0.4825\n",
      "Validation Loss: 1.0121, Validation Accuracy: 0.4325\n"
     ]
    }
   ],
   "source": [
    "# Evaluate the model\n",
    "model.eval()\n",
    "with torch.no_grad():\n",
    "    train_outputs = model(feats_train).squeeze()\n",
    "    val_outputs = model(feats_val).squeeze()\n",
    "    \n",
    "    train_loss = criterion(train_outputs, Y_train)\n",
    "    val_loss = criterion(val_outputs, Y_val)\n",
    "    \n",
    "    # Binary classification accuracy\n",
    "    train_predictions = torch.where(train_outputs >= 0, 1.0, -1.0)\n",
    "    val_predictions = torch.where(val_outputs >= 0, 1.0, -1.0)\n",
    "    \n",
    "    train_accuracy = (train_predictions == Y_train).float().mean()\n",
    "    val_accuracy = (val_predictions == Y_val).float().mean()\n",
    "    \n",
    "    print(f'Training Loss: {train_loss.item():.4f}, Training Accuracy: {train_accuracy.item():.4f}')\n",
    "    print(f'Validation Loss: {val_loss.item():.4f}, Validation Accuracy: {val_accuracy.item():.4f}')"
   ]
  },
  {
   "cell_type": "code",
   "execution_count": null,
   "id": "f7da4a19-8bb2-4b64-af00-6b6f24071a9a",
   "metadata": {},
   "outputs": [],
   "source": [
    "           "
   ]
  }
 ],
 "metadata": {
  "kernelspec": {
   "display_name": "Python 3 (ipykernel)",
   "language": "python",
   "name": "python3"
  },
  "language_info": {
   "codemirror_mode": {
    "name": "ipython",
    "version": 3
   },
   "file_extension": ".py",
   "mimetype": "text/x-python",
   "name": "python",
   "nbconvert_exporter": "python",
   "pygments_lexer": "ipython3",
   "version": "3.12.4"
  }
 },
 "nbformat": 4,
 "nbformat_minor": 5
}
