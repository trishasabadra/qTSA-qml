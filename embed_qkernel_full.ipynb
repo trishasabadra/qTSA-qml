{
 "cells": [
  {
   "cell_type": "code",
   "execution_count": null,
   "metadata": {},
   "outputs": [],
   "source": [
    "# source: https://pennylane.ai/qml/demos/tutorial_kernels_module/\n",
    "# evaluate kernels, use them for classification and train them with gradient-based optimization\n",
    "# only for training full data on PRETRAINED parameters (for full code, including training parameters go to embed_qkernel_orig)"
   ]
  },
  {
   "cell_type": "code",
   "execution_count": 28,
   "metadata": {
    "collapsed": false,
    "jupyter": {
     "outputs_hidden": false
    }
   },
   "outputs": [],
   "source": [
    "from pennylane import numpy as np\n",
    "import matplotlib as mpl\n",
    "import matplotlib.pyplot as plt\n",
    "from sklearn.svm import SVC"
   ]
  },
  {
   "cell_type": "code",
   "execution_count": 29,
   "metadata": {},
   "outputs": [],
   "source": [
    "# LOAD DATA \n",
    "X = np.loadtxt(\"trainX.txt\")\n",
    "Y = np.loadtxt(\"trainY.txt\")"
   ]
  },
  {
   "cell_type": "markdown",
   "metadata": {},
   "source": [
    "Training the Quantum Embedding Kernel\n",
    "===================================\n",
    "\n",
    "PennyLane\\'s [kernels\n",
    "module](https://pennylane.readthedocs.io/en/latest/code/qml_kernels.html)\n",
    "allows for a particularly simple implementation of Quantum Embedding\n",
    "Kernels. The first ingredient we need for this is an *ansatz*, which we\n",
    "will construct by repeating a layer as building block. Let\\'s start by\n",
    "defining this layer:\n"
   ]
  },
  {
   "cell_type": "code",
   "execution_count": 30,
   "metadata": {
    "collapsed": false,
    "jupyter": {
     "outputs_hidden": false
    }
   },
   "outputs": [],
   "source": [
    "import pennylane as qml\n",
    "\n",
    "def layer(x, params, wires, i0=0, inc=1):\n",
    "    \"\"\"Building block of the embedding ansatz\"\"\"\n",
    "    i = i0\n",
    "    for j, wire in enumerate(wires):\n",
    "        qml.Hadamard(wires=[wire])\n",
    "        qml.RZ(x[i % len(x)], wires=[wire])\n",
    "        i += inc\n",
    "        qml.RY(params[0][j], wires=[wire])\n",
    "        # qml.RY(params[0, j], wires=[wire])\n",
    "\n",
    "    qml.broadcast(unitary=qml.CRZ, pattern=\"ring\", wires=wires, parameters=params[1])\n",
    "    # qml.broadcast(unitary=qml.CRZ, pattern=\"chain\", wires=wires, parameters=params[1])\n",
    "\n",
    "def ansatz(x, params, wires):\n",
    "    \"\"\"The embedding ansatz\"\"\"\n",
    "    for j, layer_params in enumerate(params):\n",
    "        layer(x, layer_params, wires, i0=j * len(wires))\n",
    "\n",
    "\n",
    "adjoint_ansatz = qml.adjoint(ansatz)\n",
    "\n",
    "\n",
    "def random_params(num_wires, num_layers):\n",
    "    \"\"\"Generate random variational parameters in the shape for the ansatz.\"\"\"\n",
    "    return np.random.uniform(0, 2 * np.pi, (num_layers, 2, num_wires), requires_grad=True)"
   ]
  },
  {
   "cell_type": "code",
   "execution_count": 31,
   "metadata": {
    "collapsed": false,
    "jupyter": {
     "outputs_hidden": false
    }
   },
   "outputs": [],
   "source": [
    "dev = qml.device(\"default.qubit\", wires=5, shots=None)\n",
    "wires = dev.wires.tolist()\n",
    "\n",
    "@qml.qnode(dev)\n",
    "def kernel_circuit(x1, x2, params):\n",
    "    ansatz(x1, params, wires=wires)\n",
    "    adjoint_ansatz(x2, params, wires=wires)\n",
    "    return qml.probs(wires=wires)\n",
    "\n",
    "def kernel(x1, x2, params):\n",
    "    return kernel_circuit(x1, x2, params)[0] # kernel value = probabality of |000> (all-zero state)"
   ]
  },
  {
   "cell_type": "code",
   "execution_count": 32,
   "metadata": {
    "collapsed": false,
    "jupyter": {
     "outputs_hidden": false
    }
   },
   "outputs": [],
   "source": [
    "def accuracy(classifier, X, Y_target):\n",
    "    return 1 - np.count_nonzero(classifier.predict(X) - Y_target) / len(Y_target)"
   ]
  },
  {
   "cell_type": "code",
   "execution_count": null,
   "metadata": {
    "collapsed": false,
    "jupyter": {
     "outputs_hidden": false
    }
   },
   "outputs": [],
   "source": [
    "import time\n",
    "start = time.time()\n",
    "\n",
    "# paramters from size 400, 5 qubits\n",
    "init_params = [[[ 4.43579632,  5.95588264,  1.97631895,  1.7118079,  4.64243166], [ 5.50426713,  2.25842913,  4.31622265,  0.10696863,  5.47067019]],\n",
    "[[ 1.01553446,  4.37445215,  3.74262481,  4.86624659,  2.81187996], [ 0.60648683,  4.74618443,  1.9680156,  5.82452492,  4.46579975]],\n",
    "[[ 1.28841508,  4.34824804,  5.53368509,  2.15002838,  4.37367301], [ 0.11758295,  2.6847685,  3.17758759,  5.07467742,  5.32711511]],\n",
    "[[ 6.56351428,  5.58980198,  1.12458044,  1.20459353, -0.14599216], [ 0.92603956,  4.32338889,  0.3925044,  2.44958368,  1.02926268]],\n",
    "[[ 2.95973522,  0.99847921,  0.63422612,  5.20947467,  6.15839107], [ 5.1472463,  3.34834323,  4.06946024,  3.27777642,  5.70657485]],\n",
    "[[ 5.72153431,  2.16144867,  2.11998269,  0.52948446,  5.45257038], [ 5.84396771,  0.43399747,  6.21551017,  0.88154949,  5.41424268]]]\n",
    "\n",
    "init_kernel = lambda x1, x2: kernel(x1, x2, init_params)\n",
    "\n",
    "svm = SVC(kernel=lambda X1, X2: qml.kernels.kernel_matrix(X1, X2, init_kernel)).fit(X, Y)\n",
    "\n",
    "accuracy_init = accuracy(svm, X, Y)\n",
    "print(f\"The training accuracy of the kernel with pre-trained parameters on the full data is {accuracy_init:.3f}\")\n",
    "\n",
    "end = time.time()\n",
    "print(\"runtime in min: \", (end-start)/60)"
   ]
  },
  {
   "cell_type": "code",
   "execution_count": null,
   "metadata": {},
   "outputs": [],
   "source": [
    "# PRINT MATRIX\n",
    "# K_init = qml.kernels.square_kernel_matrix(X, init_kernel, assume_normalized_kernel=True)\n",
    "# with np.printoptions(precision=3, suppress=True):\n",
    "#     print(K_init)"
   ]
  },
  {
   "cell_type": "code",
   "execution_count": 27,
   "metadata": {},
   "outputs": [
    {
     "name": "stdout",
     "output_type": "stream",
     "text": [
      "The testing accuracy of a kernel with trained parameters is 0.934\n"
     ]
    }
   ],
   "source": [
    "start = time.time()\n",
    "\n",
    "# TEST DATA ACCURACY\n",
    "Xtest = np.loadtxt(\"testX.txt\")\n",
    "Ytest = np.loadtxt(\"testY.txt\")\n",
    "accuracy_test = accuracy(svm, Xtest, Ytest)\n",
    "print(f\"The testing accuracy of a kernel with trained parameters is {accuracy_test:.3f}\")\n",
    "\n",
    "end = time.time()\n",
    "print(\"runtime in min: \", (end-start)/60)"
   ]
  },
  {
   "cell_type": "code",
   "execution_count": 22,
   "metadata": {
    "collapsed": false,
    "jupyter": {
     "outputs_hidden": false
    }
   },
   "outputs": [],
   "source": [
    "def plot_decision_boundaries(classifier, ax, N_gridpoints=14):\n",
    "    _xx, _yy = np.meshgrid(np.linspace(-1, 1, N_gridpoints), np.linspace(-1, 1, N_gridpoints))\n",
    "\n",
    "    _zz = np.zeros_like(_xx)\n",
    "    for idx in np.ndindex(*_xx.shape):\n",
    "        _zz[idx] = classifier.predict(np.array([_xx[idx], _yy[idx]])[np.newaxis, :])\n",
    "\n",
    "    plot_data = {\"_xx\": _xx, \"_yy\": _yy, \"_zz\": _zz}\n",
    "    ax.contourf(\n",
    "        _xx,\n",
    "        _yy,\n",
    "        _zz,\n",
    "        cmap=mpl.colors.ListedColormap([\"#FF0000\", \"#0000FF\"]),\n",
    "        alpha=0.2,\n",
    "        levels=[-1, 0, 1],\n",
    "    )\n",
    "    plot_double_cake_data(X, Y, ax)\n",
    "\n",
    "    return plot_data"
   ]
  },
  {
   "cell_type": "code",
   "execution_count": 88,
   "metadata": {},
   "outputs": [
    {
     "data": {
      "image/png": "[encoded data removed]",
      "text/plain": [
       "<Figure size 640x480 with 1 Axes>"
      ]
     },
     "metadata": {},
     "output_type": "display_data"
    },
    {
     "data": {
      "image/png": "[encoded data removed]",
      "text/plain": [
       "<Figure size 640x480 with 1 Axes>"
      ]
     },
     "metadata": {},
     "output_type": "display_data"
    }
   ],
   "source": [
    "import matplotlib.pyplot as plt\n",
    "\n",
    "plt.figure()\n",
    "plt.scatter(X[:, 0][Y == 1], X[:, 1][Y == 1], c=\"b\", marker=\"o\", ec=\"k\")\n",
    "plt.scatter(X[:, 0][Y == 0], X[:, 1][Y == 0], c=\"r\", marker=\"o\", ec=\"k\")\n",
    "plt.title(\"Original data\")\n",
    "plt.show()"
   ]
  },
  {
   "cell_type": "code",
   "execution_count": null,
   "metadata": {},
   "outputs": [],
   "source": [
    "init_plot_data = plot_decision_boundaries(svm, plt.gca())"
   ]
  }
 ],
 "metadata": {
  "kernelspec": {
   "display_name": "Python 3 (ipykernel)",
   "language": "python",
   "name": "python3"
  },
  "language_info": {
   "codemirror_mode": {
    "name": "ipython",
    "version": 3
   },
   "file_extension": ".py",
   "mimetype": "text/x-python",
   "name": "python",
   "nbconvert_exporter": "python",
   "pygments_lexer": "ipython3",
   "version": "3.12.4"
  }
 },
 "nbformat": 4,
 "nbformat_minor": 4
}
