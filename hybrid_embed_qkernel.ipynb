{
 "cells": [
  {
   "cell_type": "code",
   "execution_count": null,
   "metadata": {},
   "outputs": [],
   "source": [
    "# source: https://pennylane.ai/qml/demos/tutorial_kernels_module/\n",
    "# Summary: evaluate kernels, use them for classification and train them with gradient-based optimization"
   ]
  },
  {
   "cell_type": "markdown",
   "metadata": {},
   "source": [
    "Imports + Data\n",
    "==================================="
   ]
  },
  {
   "cell_type": "code",
   "execution_count": 2,
   "metadata": {
    "collapsed": false,
    "jupyter": {
     "outputs_hidden": false
    }
   },
   "outputs": [],
   "source": [
    "from pennylane import numpy as np\n",
    "import matplotlib as mpl\n",
    "import matplotlib.pyplot as plt\n",
    "from sklearn.svm import SVC"
   ]
  },
  {
   "cell_type": "code",
   "execution_count": 18,
   "metadata": {},
   "outputs": [],
   "source": [
    "# LOAD DATA \n",
    "X = np.loadtxt(\"trainX.txt\")\n",
    "Y = np.loadtxt(\"trainY.txt\")\n",
    "Y_train = np.where(Y == 0, -1.0, 1.0)\n",
    "\n",
    "# X = X[:100]\n",
    "# Y = Y[:100]"
   ]
  },
  {
   "cell_type": "markdown",
   "metadata": {},
   "source": [
    "Quantum Kernel Circuit Construction\n",
    "==================================="
   ]
  },
  {
   "cell_type": "code",
   "execution_count": 19,
   "metadata": {},
   "outputs": [],
   "source": [
    "# CIRCUIT DESIGN:\n",
    "# single layer construction: hadamard gate, z-axis rotation using data point x, y-axis rotation using parameters, control RZ gate ring\n",
    "# q0: ──H──RZ(x[0])──RY(params[0, 0])───•─────────────\n",
    "#                                       |\n",
    "# q1: ──H──RZ(x[1])──RY(params[0, 1])───●───•─────────\n",
    "#                                           |\n",
    "# q2: ──H──RZ(x[2])──RY(params[0, 2])───────●─────────\n",
    "# ansatz: repeats the above layer multiple times, using different parameters for each repetition"
   ]
  },
  {
   "cell_type": "code",
   "execution_count": 20,
   "metadata": {
    "collapsed": false,
    "jupyter": {
     "outputs_hidden": false
    }
   },
   "outputs": [],
   "source": [
    "import pennylane as qml\n",
    "\n",
    "def layer(x, params, wires, i0=0, inc=1):\n",
    "    \"\"\"Building block of the embedding ansatz\"\"\"\n",
    "    i = i0\n",
    "    for j, wire in enumerate(wires):\n",
    "        qml.Hadamard(wires=[wire])\n",
    "        qml.RZ(x[i % len(x)], wires=[wire])\n",
    "        i += inc\n",
    "        qml.RY(params[0, j], wires=[wire])\n",
    "\n",
    "    qml.broadcast(unitary=qml.CRZ, pattern=\"ring\", wires=wires, parameters=params[1])"
   ]
  },
  {
   "cell_type": "markdown",
   "metadata": {},
   "source": [
    "To construct the ansatz, this layer is repeated multiple times, reusing\n",
    "the datapoint `x` but feeding different variational parameters `params`\n",
    "into each of them. Together, the datapoint and the variational\n",
    "parameters fully determine the embedding ansatz $U(\\boldsymbol{x})$. In\n",
    "order to construct the full kernel circuit, we also require its adjoint\n",
    "$U(\\boldsymbol{x})^\\dagger$, which we can obtain via `qml.adjoint`.\n"
   ]
  },
  {
   "cell_type": "code",
   "execution_count": 21,
   "metadata": {
    "collapsed": false,
    "jupyter": {
     "outputs_hidden": false
    }
   },
   "outputs": [],
   "source": [
    "def ansatz(x, params, wires):\n",
    "    \"\"\"The embedding ansatz\"\"\"\n",
    "    for j, layer_params in enumerate(params):\n",
    "        layer(x, layer_params, wires, i0=j * len(wires))\n",
    "\n",
    "adjoint_ansatz = qml.adjoint(ansatz)"
   ]
  },
  {
   "cell_type": "markdown",
   "metadata": {},
   "source": [
    "Together with the ansatz we only need a device to run the quantum\n",
    "circuit on. For the purpose of this tutorial we will use PennyLane\\'s\n",
    "`default.qubit` device with 5 wires in analytic mode.\n"
   ]
  },
  {
   "cell_type": "code",
   "execution_count": 22,
   "metadata": {
    "collapsed": false,
    "jupyter": {
     "outputs_hidden": false
    }
   },
   "outputs": [],
   "source": [
    "dev = qml.device(\"default.qubit\", wires=3, shots=None) \n",
    "wires = dev.wires.tolist()"
   ]
  },
  {
   "cell_type": "markdown",
   "metadata": {},
   "source": [
    "Let us now define the quantum circuit that realizes the kernel. We will\n",
    "compute the overlap of the quantum states by first applying the\n",
    "embedding of the first datapoint and then the adjoint of the embedding\n",
    "of the second datapoint. We finally extract the probabilities of\n",
    "observing each basis state.\n"
   ]
  },
  {
   "cell_type": "code",
   "execution_count": 23,
   "metadata": {
    "collapsed": false,
    "jupyter": {
     "outputs_hidden": false
    }
   },
   "outputs": [],
   "source": [
    "# Kernel Circuit: applies the ansatz for x1, applies the adjoint of the ansatz for x2, compute overlap between x1 and x2\n",
    "@qml.qnode(dev)\n",
    "def kernel_circuit(x1, x2, params):\n",
    "    ansatz(x1, params, wires=wires)\n",
    "    adjoint_ansatz(x2, params, wires=wires)\n",
    "    return qml.probs(wires=wires)"
   ]
  },
  {
   "cell_type": "markdown",
   "metadata": {},
   "source": [
    "The kernel function itself is now obtained by looking at the probability\n",
    "of observing the all-zero state at the end of the kernel circuit --\n",
    "because of the ordering in `qml.probs`, this is the first entry:\n"
   ]
  },
  {
   "cell_type": "code",
   "execution_count": 24,
   "metadata": {
    "collapsed": false,
    "jupyter": {
     "outputs_hidden": false
    }
   },
   "outputs": [],
   "source": [
    "def kernel(x1, x2, params):\n",
    "    return kernel_circuit(x1, x2, params)[0]"
   ]
  },
  {
   "cell_type": "markdown",
   "metadata": {},
   "source": [
    "Before focusing on the kernel values we have to provide values for the\n",
    "variational parameters. At this point we fix the number of layers in the\n",
    "ansatz circuit to $6$."
   ]
  },
  {
   "cell_type": "code",
   "execution_count": 40,
   "metadata": {
    "collapsed": false,
    "jupyter": {
     "outputs_hidden": false
    }
   },
   "outputs": [
    {
     "name": "stdout",
     "output_type": "stream",
     "text": [
      "[[[4.03679078 0.23481282 4.85470123]\n",
      "  [1.08898985 4.30412059 0.25592845]]\n",
      "\n",
      " [[5.01875056 1.50830527 2.55906994]\n",
      "  [4.55171666 4.27275021 4.95337798]]]\n"
     ]
    }
   ],
   "source": [
    "def random_params(num_wires, num_layers):\n",
    "    \"\"\"Generate random variational parameters in the shape for the ansatz.\"\"\"\n",
    "    return np.random.uniform(0, 2 * np.pi, (num_layers, 2, num_wires), requires_grad=True)\n",
    "\n",
    "init_params = random_params(num_wires=3, num_layers=2)\n",
    "print(init_params)"
   ]
  },
  {
   "cell_type": "markdown",
   "metadata": {},
   "source": [
    "Now we can have a look at the kernel value between the first and the\n",
    "second datapoint:\n"
   ]
  },
  {
   "cell_type": "code",
   "execution_count": 41,
   "metadata": {
    "collapsed": false,
    "jupyter": {
     "outputs_hidden": false
    }
   },
   "outputs": [
    {
     "name": "stdout",
     "output_type": "stream",
     "text": [
      "The kernel value between the first and second datapoint is 0.720\n"
     ]
    }
   ],
   "source": [
    "kernel_value = kernel(X[0], X[1], init_params)\n",
    "print(f\"The kernel value between the first and second datapoint is {kernel_value:.3f}\")"
   ]
  },
  {
   "cell_type": "code",
   "execution_count": 42,
   "metadata": {},
   "outputs": [
    {
     "data": {
      "image/png": "[encoded data removed]",
      "text/plain": [
       "<Figure size 2700x400 with 1 Axes>"
      ]
     },
     "metadata": {},
     "output_type": "display_data"
    }
   ],
   "source": [
    "qml.draw_mpl(kernel_circuit, style='pennylane')(X[0], X[1], init_params)\n",
    "plt.show()"
   ]
  },
  {
   "cell_type": "markdown",
   "metadata": {},
   "source": [
    "The mutual kernel values between all elements of the dataset form the\n",
    "*kernel matrix*. We can inspect it via the\n",
    "`qml.kernels.square_kernel_matrix` method, which makes use of symmetry\n",
    "of the kernel,\n",
    "$k(\\boldsymbol{x}_i,\\boldsymbol{x}_j) = k(\\boldsymbol{x}_j, \\boldsymbol{x}_i)$.\n",
    "In addition, the option `assume_normalized_kernel=True` ensures that we\n",
    "do not calculate the entries between the same datapoints, as we know\n",
    "them to be 1 for our noiseless simulation. Overall this means that we\n",
    "compute $\\frac{1}{2}(N^2-N)$ kernel values for $N$ datapoints. To\n",
    "include the variational parameters, we construct a `lambda` function\n",
    "that fixes them to the values we sampled above.\n"
   ]
  },
  {
   "cell_type": "code",
   "execution_count": 27,
   "metadata": {
    "collapsed": false,
    "jupyter": {
     "outputs_hidden": false
    }
   },
   "outputs": [],
   "source": [
    "# import time\n",
    "# start = time.time()\n",
    "\n",
    "# init_kernel = lambda x1, x2: kernel(x1, x2, init_params)\n",
    "# K_init = qml.kernels.square_kernel_matrix(X, init_kernel, assume_normalized_kernel=True)\n",
    "\n",
    "# end = time.time()\n",
    "# print(\"runtime in min: \", (end-start)/60)\n",
    "\n",
    "# with np.printoptions(precision=3, suppress=True):\n",
    "#     print(K_init)"
   ]
  },
  {
   "cell_type": "markdown",
   "metadata": {},
   "source": [
    "Using the Quantum Embedding Kernel for predictions\n",
    "==================================================\n",
    "\n",
    "The quantum kernel alone can not be used to make predictions on a\n",
    "dataset, becaues it is essentially just a tool to measure the similarity\n",
    "between two datapoints. "
   ]
  },
  {
   "cell_type": "code",
   "execution_count": 28,
   "metadata": {},
   "outputs": [],
   "source": [
    "def accuracy(classifier, X, Y_target):\n",
    "    return 1 - np.count_nonzero(classifier.predict(X) - Y_target) / len(Y_target)"
   ]
  },
  {
   "cell_type": "code",
   "execution_count": 29,
   "metadata": {
    "collapsed": false,
    "jupyter": {
     "outputs_hidden": false
    }
   },
   "outputs": [],
   "source": [
    "# svm = SVC(kernel=lambda X1, X2: qml.kernels.kernel_matrix(X1, X2, init_kernel)).fit(X, Y)\n",
    "# accuracy_init = accuracy(svm, X, Y)\n",
    "# print(f\"The accuracy of the kernel with random parameters is {accuracy_init:.3f}\")"
   ]
  },
  {
   "cell_type": "code",
   "execution_count": 30,
   "metadata": {
    "collapsed": false,
    "jupyter": {
     "outputs_hidden": false
    }
   },
   "outputs": [],
   "source": [
    "def plot_decision_boundaries(classifier, ax, N_gridpoints=14):\n",
    "    _xx, _yy = np.meshgrid(np.linspace(-1, 1, N_gridpoints), np.linspace(-1, 1, N_gridpoints))\n",
    "\n",
    "    _zz = np.zeros_like(_xx)\n",
    "    for idx in np.ndindex(*_xx.shape):\n",
    "        _zz[idx] = classifier.predict(np.array([_xx[idx], _yy[idx]])[np.newaxis, :])\n",
    "\n",
    "    plot_data = {\"_xx\": _xx, \"_yy\": _yy, \"_zz\": _zz}\n",
    "    ax.contourf(\n",
    "        _xx,\n",
    "        _yy,\n",
    "        _zz,\n",
    "        cmap=mpl.colors.ListedColormap([\"#FF0000\", \"#0000FF\"]),\n",
    "        alpha=0.2,\n",
    "        levels=[-1, 0, 1],\n",
    "    )\n",
    "    plot_double_cake_data(X, Y, ax)\n",
    "\n",
    "    return plot_data"
   ]
  },
  {
   "cell_type": "markdown",
   "metadata": {},
   "source": [
    "Training the Quantum Embedding Kernel\n",
    "=================================================="
   ]
  },
  {
   "cell_type": "code",
   "execution_count": 82,
   "metadata": {
    "collapsed": false,
    "jupyter": {
     "outputs_hidden": false
    }
   },
   "outputs": [
    {
     "name": "stdout",
     "output_type": "stream",
     "text": [
      "The kernel-target alignment for our dataset and random parameters is 0.389\n"
     ]
    }
   ],
   "source": [
    "kta_init = qml.kernels.target_alignment(X, Y, init_kernel, assume_normalized_kernel=True)\n",
    "\n",
    "print(f\"The kernel-target alignment for our dataset and random parameters is {kta_init:.3f}\")"
   ]
  },
  {
   "cell_type": "markdown",
   "metadata": {},
   "source": [
    "Now let\\'s code up an optimization loop and improve the kernel-target\n",
    "alignment!\n",
    "\n",
    "We will make use of regular gradient descent optimization. To speed up\n",
    "the optimization we will not use the entire training set to compute\n",
    "$\\operatorname{KTA}$ but rather sample smaller subsets of the data at\n",
    "each step, we choose $4$ datapoints at random. Remember that\n",
    "PennyLane\\'s built-in optimizer works to *minimize* the cost function\n",
    "that is given to it, which is why we have to multiply the kernel target\n",
    "alignment by $-1$ to actually *maximize* it in the process.\n",
    "\n",
    "Currently, the function `qml.kernels.target_alignment` is not\n",
    "differentiable yet, making it unfit for gradient descent optimization.\n",
    "We therefore first define a differentiable version of this function."
   ]
  },
  {
   "cell_type": "code",
   "execution_count": 85,
   "metadata": {
    "collapsed": false,
    "jupyter": {
     "outputs_hidden": false
    }
   },
   "outputs": [
    {
     "name": "stdout",
     "output_type": "stream",
     "text": [
      "Step 25 - Alignment = 0.408\n",
      "Step 50 - Alignment = 0.398\n",
      "Step 75 - Alignment = 0.413\n",
      "Step 100 - Alignment = 0.424\n",
      "Step 125 - Alignment = 0.432\n",
      "Step 150 - Alignment = 0.438\n",
      "Step 175 - Alignment = 0.449\n",
      "Step 200 - Alignment = 0.423\n",
      "Step 225 - Alignment = 0.457\n",
      "Step 250 - Alignment = 0.425\n"
     ]
    }
   ],
   "source": [
    "from pennylane.optimize import AdamOptimizer\n",
    "\n",
    "def target_alignment(\n",
    "    X,\n",
    "    Y,\n",
    "    kernel,\n",
    "    assume_normalized_kernel=False,\n",
    "    rescale_class_labels=True,\n",
    "):\n",
    "    \"\"\"Kernel-target alignment between kernel and labels.\"\"\"\n",
    "\n",
    "    K = qml.kernels.square_kernel_matrix(\n",
    "        X,\n",
    "        kernel,\n",
    "        assume_normalized_kernel=assume_normalized_kernel,\n",
    "    )\n",
    "\n",
    "    if rescale_class_labels:\n",
    "        nplus = np.count_nonzero(np.array(Y) == 1)\n",
    "        nminus = len(Y) - nplus\n",
    "        _Y = np.array([y / nplus if y == 1 else y / nminus for y in Y])\n",
    "    else:\n",
    "        _Y = np.array(Y)\n",
    "\n",
    "    T = np.outer(_Y, _Y)\n",
    "    inner_product = np.sum(K * T)\n",
    "    norm = np.sqrt(np.sum(K * K) * np.sum(T * T))\n",
    "\n",
    "    # Check if norm is zero to avoid division by zero\n",
    "    if norm == 0:\n",
    "        return inner_product\n",
    "    \n",
    "    inner_product = inner_product / norm\n",
    "\n",
    "    return inner_product\n",
    "\n",
    "\n",
    "params = init_params\n",
    "opt = qml.AdamOptimizer(0.01)\n",
    "batch_size = 10\n",
    "\n",
    "for i in range(250):\n",
    "    # Choose subset of datapoints to compute the KTA on.\n",
    "    subset = np.random.choice(list(range(len(X))), batch_size)\n",
    "    # Define the cost function for optimization\n",
    "    cost = lambda _params: -target_alignment(\n",
    "        X[subset],\n",
    "        Y[subset],\n",
    "        lambda x1, x2: kernel(x1, x2, _params),\n",
    "        assume_normalized_kernel=True,\n",
    "    )\n",
    "    # Optimization step\n",
    "    params = opt.step(cost, params)\n",
    "\n",
    "    # Report the alignment on the full dataset every 50 steps.\n",
    "    if (i + 1) % 50 == 0:\n",
    "        current_alignment = target_alignment(\n",
    "            X,\n",
    "            Y,\n",
    "            lambda x1, x2: kernel(x1, x2, params),\n",
    "            assume_normalized_kernel=True,\n",
    "        )\n",
    "        print(f\"Step {i+1} - Alignment = {current_alignment:.3f}\")"
   ]
  },
  {
   "cell_type": "markdown",
   "metadata": {},
   "source": [
    "We want to assess the impact of training the parameters of the quantum\n",
    "kernel. Thus, let\\'s build a second support vector classifier with the\n",
    "trained kernel:\n"
   ]
  },
  {
   "cell_type": "code",
   "execution_count": 86,
   "metadata": {
    "collapsed": false,
    "jupyter": {
     "outputs_hidden": false
    }
   },
   "outputs": [
    {
     "name": "stdout",
     "output_type": "stream",
     "text": [
      "runtime in min:  28.81069133281708\n"
     ]
    }
   ],
   "source": [
    "import time\n",
    "start = time.time()\n",
    "\n",
    "# First create a kernel with the trained parameter baked into it.\n",
    "trained_kernel = lambda x1, x2: kernel(x1, x2, params)\n",
    "\n",
    "# Second create a kernel matrix function using the trained kernel.\n",
    "trained_kernel_matrix = lambda X1, X2: qml.kernels.kernel_matrix(X1, X2, trained_kernel)\n",
    "\n",
    "# Note that SVC expects the kernel argument to be a kernel matrix function.\n",
    "svm_trained = SVC(kernel=trained_kernel_matrix).fit(X, Y)\n",
    "\n",
    "end = time.time()\n",
    "print(\"runtime in min: \", (end-start)/60)"
   ]
  },
  {
   "cell_type": "markdown",
   "metadata": {},
   "source": [
    "We expect to see an accuracy improvement vs. the SVM with random\n",
    "parameters:\n"
   ]
  },
  {
   "cell_type": "code",
   "execution_count": 87,
   "metadata": {
    "collapsed": false,
    "jupyter": {
     "outputs_hidden": false
    }
   },
   "outputs": [
    {
     "name": "stdout",
     "output_type": "stream",
     "text": [
      "The accuracy of a kernel with trained parameters is 0.920\n"
     ]
    }
   ],
   "source": [
    "accuracy_trained = accuracy(svm_trained, X, Y)\n",
    "print(f\"The accuracy of a kernel with trained parameters is {accuracy_trained:.3f}\")"
   ]
  },
  {
   "cell_type": "markdown",
   "metadata": {},
   "source": [
    "Now we inspect the decision boundaries of\n",
    "our classifier:\n"
   ]
  },
  {
   "cell_type": "code",
   "execution_count": 88,
   "metadata": {},
   "outputs": [
    {
     "data": {
      "image/png": "[encoded data removed]",
      "text/plain": [
       "<Figure size 640x480 with 1 Axes>"
      ]
     },
     "metadata": {},
     "output_type": "display_data"
    },
    {
     "data": {
      "image/png": "[encoded data removed]",
      "text/plain": [
       "<Figure size 640x480 with 1 Axes>"
      ]
     },
     "metadata": {},
     "output_type": "display_data"
    }
   ],
   "source": [
    "import matplotlib.pyplot as plt\n",
    "\n",
    "plt.figure()\n",
    "plt.scatter(X[:, 0][Y == 1], X[:, 1][Y == 1], c=\"b\", marker=\"o\", ec=\"k\")\n",
    "plt.scatter(X[:, 0][Y == 0], X[:, 1][Y == 0], c=\"r\", marker=\"o\", ec=\"k\")\n",
    "plt.title(\"Original data\")\n",
    "plt.show()"
   ]
  },
  {
   "cell_type": "code",
   "execution_count": null,
   "metadata": {},
   "outputs": [],
   "source": [
    "init_plot_data = plot_decision_boundaries(svm, plt.gca())"
   ]
  },
  {
   "cell_type": "markdown",
   "metadata": {},
   "source": [
    "Combining Classical NN - from Sijia\n",
    "==================================="
   ]
  },
  {
   "cell_type": "code",
   "execution_count": 4,
   "metadata": {},
   "outputs": [],
   "source": [
    "# def calAct(self, q_in, actmethod):\n",
    "#     q_in = np.array(q_in)\n",
    "#     if actmethod == 'tanh':\n",
    "#         q_out = 2/(1+np.exp(-2*q_in))-1\n",
    "#     elif actmethod == 'relu':\n",
    "#         q_out = q_in*(q_in>0)\n",
    "#     elif actmethod == 'sigmoid':\n",
    "#         q_out = 1/(1+np.exp(-q_in))\n",
    "        \n",
    "#     return np.matrix(q_out)\n",
    "\n",
    "# # classical neural network for optimizing the parameter \n",
    "# def param_compact(self, param, x_sample): # what is self? \n",
    "#     n_qubits = self.n_qubits\n",
    "#     n_layers = self.n_layers\n",
    "#     nQAOA = self.nQAOA \n",
    "#     n_x = 2 # number of features each input data sample has\n",
    "#     \"\"\"translate param_unaug from param\n",
    "#     param_compact: n_layers * (2*n_qubits + 2*n_qubits)\n",
    "#     param_qnn: n_layers * (2*n_qubits + 2*n_qubits*(n_x+1) )\n",
    "#     \"\"\"\n",
    "#     param_m = np.matrix(param)\n",
    "#     x_aug = np.matrix(np.concatenate((x_sample,[1]))).T\n",
    "\n",
    "#     param_compact_ = np.matrix( np.zeros(( n_layers , nQAOA + n_qubits )) )\n",
    "#     param_compact_[:,:nQAOA] = param_m[:,:nQAOA]\n",
    "\n",
    "#     iindx = nQAOA\n",
    "#     iindx_compact = nQAOA\n",
    "#     for i_qubit in range(n_qubits): \n",
    "#         # in every layer, we have 2*n_qubit block for embedding x by activation function\n",
    "#         # need to embed x to params for pennylane\n",
    "#         # theoretically, 2*nq blocks are identical\n",
    "#         q_in = param_m[:,iindx:(iindx+n_x+1)]*x_aug \n",
    "#         q_out = self.calAct(q_in, self.activation) # q_out = the output of the classical nn - input to the qnn instead of power data \n",
    "#         param_compact_[:,iindx_compact] = q_out \n",
    "#         iindx = iindx + n_x+1\n",
    "#         iindx_compact = iindx_compact+1\n",
    "\n",
    "#     # x_con = [0]\n",
    "#     return np.array(param_compact_)\n",
    "\n",
    "# def grad_augment(self, grad_compact, param , x_sample):\n",
    "#     \"\"\"\n",
    "#     \"\"\"\n",
    "#     n_qubits = self.n_qubits\n",
    "#     n_layers = self.n_layers\n",
    "#     nQAOA = self.nQAOA\n",
    "#     n_x = 2 \n",
    "#     \"\"\"translate grad from grad_aug\n",
    "#     grad: n_layers * (2*n_qubits + 2*n_qubits)\n",
    "#     grad_aug: n_layers * (2*n_qubits + 2*n_qubits*(n_x+1) )\n",
    "#     \"\"\"\n",
    "#     #   grad_aug\n",
    "#     param_m = np.matrix(param)\n",
    "#     grad_compact = np.matrix(grad_compact)\n",
    "#     x_aug = np.matrix(np.concatenate((x_sample,[1]))).T\n",
    "\n",
    "#     grad_aug = np.matrix(np.zeros(param.shape))\n",
    "#     grad_aug[:,:nQAOA] = grad_compact[:,:nQAOA]\n",
    "\n",
    "#     iindx = nQAOA\n",
    "#     iindx_compact = nQAOA\n",
    "#     for i_qubit in range(2*n_qubits):\n",
    "#         # in every layer, we have 2*n_qubit block for embedding x by activation function\n",
    "#         # need to recalculate gradient for them\n",
    "#         # theoretically, 2*nq blocks are identical\n",
    "\n",
    "#         q_in = param_m[:,iindx:(iindx+n_x+1)]*x_aug\n",
    "#         q_out = self.calAct_dev(q_in, self.activation)\n",
    "#         grad_qout = np.multiply(grad_compact[:,iindx_compact],q_out)\n",
    "#         grad_aug[:,iindx:(iindx+n_x+1)] = grad_qout*x_aug.T\n",
    "#         # param_m_line = param_m[:,iindx:(iindx+n_x+1)].reshape(1,-1)[0][0]\n",
    "#         # grad_aug_server[:,iindx:(iindx+n_x+1)] = grad_qout*param_m_line[0,iindx_server:iindx_server+n_x+1]\n",
    "\n",
    "#         iindx = iindx + n_x+1\n",
    "#         iindx_compact = iindx_compact+1\n",
    "\n",
    "#     return np.array(grad_aug)"
   ]
  },
  {
   "cell_type": "code",
   "execution_count": null,
   "metadata": {},
   "outputs": [],
   "source": [
    "# Define the Quantum Kernel Optimizer\n",
    "class QuantumKernelOptimizer:\n",
    "    def __init__(self, n_qubits, n_layers, n_x, activation='tanh'):\n",
    "        self.n_qubits = n_qubits\n",
    "        self.n_layers = n_layers\n",
    "        self.n_x = n_x # number of features each input data sample has\n",
    "        self.activation = activation\n",
    "\n",
    "    def calAct(self, q_in, actmethod):\n",
    "        q_in = np.array(q_in)\n",
    "        if actmethod == 'tanh':\n",
    "            q_out = 2 / (1 + np.exp(-2 * q_in)) - 1\n",
    "        elif actmethod == 'relu':\n",
    "            q_out = q_in * (q_in > 0)\n",
    "        elif actmethod == 'sigmoid':\n",
    "            q_out = 1 / (1 + np.exp(-q_in))\n",
    "        return np.matrix(q_out)\n",
    "\n",
    "    def param_compact(self, param, x_sample):\n",
    "        n_qubits = self.n_qubits\n",
    "        n_layers = self.n_layers\n",
    "        n_x = self.n_x\n",
    "        param_m = np.matrix(param)\n",
    "        x_aug = np.matrix(np.concatenate((x_sample, [1]))).T\n",
    "        param_compact_ = np.matrix(np.zeros((n_layers, n_qubits)))\n",
    "        param_compact_[:, :n_qubits] = param_m[:, :n_qubits]\n",
    "\n",
    "        iindx = n_qubits\n",
    "        for i_qubit in range(n_qubits):\n",
    "            q_in = param_m[:, iindx:(iindx + n_x + 1)] * x_aug\n",
    "            q_out = self.calAct(q_in, self.activation)\n",
    "            param_compact_[:, iindx] = q_out\n",
    "            iindx = iindx + n_x + 1\n",
    "\n",
    "        return np.array(param_compact_)\n",
    "\n",
    "    def grad_augment(self, grad_compact, param, x_sample):\n",
    "        n_qubits = self.n_qubits\n",
    "        n_layers = self.n_layers\n",
    "        n_x = self.n_x\n",
    "        \n",
    "        # translate grad from grad_aug\n",
    "        # grad: n_layers * (n_qubits + n_qubits)\n",
    "        # grad_aug: n_layers * (n_qubits + n_qubits*(n_x+1) )\n",
    "        \n",
    "        #   grad_aug\n",
    "        param_m = np.matrix(param)\n",
    "        grad_compact = np.matrix(grad_compact)\n",
    "        x_aug = np.matrix(np.concatenate((x_sample,[1]))).T\n",
    "    \n",
    "        grad_aug = np.matrix(np.zeros(param.shape))\n",
    "        grad_aug[:,:nQAOA] = grad_compact[:,:nQAOA]\n",
    "    \n",
    "        iindx = n_qubits\n",
    "        for i_qubit in range(n_qubits):\n",
    "            # in every layer, we have n_qubit block for embedding x by activation function\n",
    "            # need to recalculate gradient for them\n",
    "            q_in = param_m[:,iindx:(iindx+n_x+1)]*x_aug\n",
    "            q_out = self.calAct_dev(q_in, self.activation)\n",
    "            grad_qout = np.multiply(grad_compact[:,iindx_compact],q_out)\n",
    "            grad_aug[:,iindx:(iindx+n_x+1)] = grad_qout*x_aug.T\n",
    "            iindx = iindx + n_x+1\n",
    "    \n",
    "        return np.array(grad_aug)"
   ]
  },
  {
   "cell_type": "code",
   "execution_count": 5,
   "metadata": {},
   "outputs": [],
   "source": [
    "def train(self, param, x_sample, y_sample, epochs, learning_rate):\n",
    "    for epoch in range(epochs):\n",
    "        param_compact = self.param_compact(param, x_sample)\n",
    "        predictions = self.kernel(x_sample, x_sample, param_compact)\n",
    "        loss = np.mean((predictions - y_sample) ** 2)\n",
    "        \n",
    "        # Backpropagation and parameter update\n",
    "        grad = self.grad_augment(param_compact, param, x_sample)\n",
    "        param -= learning_rate * grad\n",
    "\n",
    "    return param"
   ]
  },
  {
   "cell_type": "code",
   "execution_count": null,
   "metadata": {},
   "outputs": [],
   "source": [
    "# Use the optimized kernel\n",
    "def optimized_kernel(x1, x2, x_sample):\n",
    "    optimized_params = optimizer.param_compact(init_params, x_sample)\n",
    "    return kernel(x1, x2, optimized_params)"
   ]
  },
  {
   "cell_type": "code",
   "execution_count": null,
   "metadata": {},
   "outputs": [],
   "source": [
    "optimizer = QuantumKernelOptimizer(n_qubits=5, n_layers=6, n_x=3)\n",
    "\n",
    "# Evaluate the kernel with optimized parameters\n",
    "K_optimized = qml.kernels.square_kernel_matrix(X, lambda x1, x2: optimized_kernel(x1, x2, x_sample=X[0]), assume_normalized_kernel=True)\n",
    "\n",
    "print(\"Optimized Kernel Matrix:\", K_optimized)"
   ]
  }
 ],
 "metadata": {
  "kernelspec": {
   "display_name": "Python 3 (ipykernel)",
   "language": "python",
   "name": "python3"
  },
  "language_info": {
   "codemirror_mode": {
    "name": "ipython",
    "version": 3
   },
   "file_extension": ".py",
   "mimetype": "text/x-python",
   "name": "python",
   "nbconvert_exporter": "python",
   "pygments_lexer": "ipython3",
   "version": "3.12.4"
  }
 },
 "nbformat": 4,
 "nbformat_minor": 4
}
