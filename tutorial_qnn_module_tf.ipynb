{
 "cells": [
  {
   "cell_type": "code",
   "execution_count": 25,
   "metadata": {
    "collapsed": false,
    "jupyter": {
     "outputs_hidden": false
    }
   },
   "outputs": [],
   "source": [
    "# This cell is added by sphinx-gallery\n",
    "# It can be customized to whatever you like\n",
    "%matplotlib inline"
   ]
  },
  {
   "cell_type": "markdown",
   "metadata": {},
   "source": [
    "Turning quantum nodes into Keras Layers\n",
    "=======================================\n",
    "\n",
    "::: {.meta}\n",
    ":property=\\\"og:description\\\": Learn how to create hybrid ML models in\n",
    "PennyLane using Keras :property=\\\"og:image\\\":\n",
    "<https://pennylane.ai/qml/_static/demonstration_assets//Keras_logo.png>\n",
    ":::\n",
    "\n",
    "::: {.related}\n",
    "tutorial\\_qnn\\_module\\_torch Turning quantum nodes into Torch Layers\n",
    ":::\n",
    "\n",
    "*Author: Tom Bromley --- Posted: 02 November 2020. Last updated: 28\n",
    "January 2021.*\n",
    "\n",
    "Creating neural networks in [Keras](https://keras.io/) is easy. Models\n",
    "are constructed from elementary *layers* and can be trained using a\n",
    "high-level API. For example, the following code defines a two-layer\n",
    "network that could be used for binary classification:\n"
   ]
  },
  {
   "cell_type": "code",
   "execution_count": 26,
   "metadata": {
    "collapsed": false,
    "jupyter": {
     "outputs_hidden": false
    }
   },
   "outputs": [],
   "source": [
    "import os\n",
    "os.environ[\"TF_USE_LEGACY_KERAS\"] = \"1\"\n",
    "import tensorflow as tf\n",
    "\n",
    "tf.keras.backend.set_floatx('float64')\n",
    "\n",
    "layer_1 = tf.keras.layers.Dense(2)\n",
    "layer_2 = tf.keras.layers.Dense(2, activation=\"softmax\")\n",
    "\n",
    "model = tf.keras.Sequential([layer_1, layer_2])\n",
    "model.compile(loss=\"mae\")"
   ]
  },
  {
   "cell_type": "markdown",
   "metadata": {},
   "source": [
    "The model can then be trained using\n",
    "[model.fit()](https://www.tensorflow.org/api_docs/python/tf/keras/Model#fit).\n",
    "\n",
    "**What if we want to add a quantum layer to our model?** This is\n",
    "possible in PennyLane:\n",
    "`QNodes <../glossary/hybrid_computation>`{.interpreted-text role=\"doc\"}\n",
    "can be converted into Keras layers and combined with the wide range of\n",
    "built-in classical\n",
    "[layers](https://www.tensorflow.org/api_docs/python/tf/keras/layers) to\n",
    "create truly hybrid models. This tutorial will guide you through a\n",
    "simple example to show you how it\\'s done!\n",
    "\n",
    "::: {.note}\n",
    "::: {.title}\n",
    "Note\n",
    ":::\n",
    "\n",
    "A similar demo explaining how to\n",
    "`turn quantum nodes into Torch layers <tutorial_qnn_module_torch>`{.interpreted-text\n",
    "role=\"doc\"} is also available.\n",
    ":::\n",
    "\n",
    "Fixing the dataset and problem\n",
    "==============================\n",
    "\n",
    "Let us begin by choosing a simple dataset and problem to allow us to\n",
    "focus on how the hybrid model is constructed. Our objective is to\n",
    "classify points generated from scikit-learn\\'s binary-class\n",
    "[make\\_moons()](https://scikit-learn.org/stable/modules/generated/sklearn.datasets.make_moons.html)\n",
    "dataset:\n"
   ]
  },
  {
   "cell_type": "code",
   "execution_count": 30,
   "metadata": {
    "collapsed": false,
    "jupyter": {
     "outputs_hidden": false
    }
   },
   "outputs": [
    {
     "data": {
      "image/png": "[encoded data removed]",
      "text/plain": [
       "<Figure size 640x480 with 1 Axes>"
      ]
     },
     "metadata": {},
     "output_type": "display_data"
    }
   ],
   "source": [
    "import matplotlib.pyplot as plt\n",
    "import numpy as np\n",
    "\n",
    "X = np.loadtxt(\"trainX.txt\")\n",
    "y = np.loadtxt(\"trainY.txt\")\n",
    "X = X[:100]\n",
    "y = y[:100]\n",
    "\n",
    "y_hot = tf.keras.utils.to_categorical(y, num_classes=2)  # one-hot encoded labels\n",
    "\n",
    "c = [\"#1f77b4\" if y_ == 0 else \"#ff7f0e\" for y_ in y]  # colours for each class\n",
    "plt.axis(\"off\")\n",
    "plt.scatter(X[:, 0], X[:, 1], c=c)\n",
    "plt.show()"
   ]
  },
  {
   "cell_type": "markdown",
   "metadata": {},
   "source": [
    "Defining a QNode\n",
    "================\n",
    "\n",
    "Our next step is to define the QNode that we want to interface with\n",
    "Keras. Any combination of device, operations and measurements that is\n",
    "valid in PennyLane can be used to compose the QNode. However, the QNode\n",
    "arguments must satisfy additional `conditions\n",
    "<code/api/pennylane.qnn.KerasLayer>`{.interpreted-text role=\"doc\"}\n",
    "including having an argument called `inputs`. All other arguments must\n",
    "be arrays or tensors and are treated as trainable weights in the model.\n",
    "We fix a two-qubit QNode using the\n",
    "`default.qubit <code/api/pennylane.devices.default_qubit.DefaultQubit>`{.interpreted-text\n",
    "role=\"doc\"} simulator and operations from the\n",
    "`templates <introduction/templates>`{.interpreted-text role=\"doc\"}\n",
    "module.\n"
   ]
  },
  {
   "cell_type": "code",
   "execution_count": 31,
   "metadata": {
    "collapsed": false,
    "jupyter": {
     "outputs_hidden": false
    }
   },
   "outputs": [],
   "source": [
    "import pennylane as qml\n",
    "\n",
    "n_qubits = 2\n",
    "dev = qml.device(\"default.qubit\", wires=n_qubits)\n",
    "\n",
    "@qml.qnode(dev)\n",
    "def qnode(inputs, weights):\n",
    "    qml.AngleEmbedding(inputs, wires=range(n_qubits))\n",
    "    qml.BasicEntanglerLayers(weights, wires=range(n_qubits))\n",
    "    return [qml.expval(qml.PauliZ(wires=i)) for i in range(n_qubits)]"
   ]
  },
  {
   "cell_type": "markdown",
   "metadata": {},
   "source": [
    "Interfacing with Keras\n",
    "======================\n",
    "\n",
    "With the QNode defined, we are ready to interface with Keras. This is\n",
    "achieved using the `~pennylane.qnn.KerasLayer`{.interpreted-text\n",
    "role=\"class\"} class of the `~pennylane.qnn`{.interpreted-text\n",
    "role=\"mod\"} module, which converts the QNode to the elementary building\n",
    "block of Keras: a *layer*. We shall see in the following how the\n",
    "resultant layer can be combined with other well-known neural network\n",
    "layers to form a hybrid model.\n",
    "\n",
    "We must first define the `weight_shapes` dictionary. Recall that all of\n",
    "the arguments of the QNode (except the one named `inputs`) are treated\n",
    "as trainable weights. For the QNode to be successfully converted to a\n",
    "layer in Keras, we need to provide the details of the shape of each\n",
    "trainable weight for them to be initialized. The `weight_shapes`\n",
    "dictionary maps from the argument names of the QNode to corresponding\n",
    "shapes:\n"
   ]
  },
  {
   "cell_type": "code",
   "execution_count": 32,
   "metadata": {
    "collapsed": false,
    "jupyter": {
     "outputs_hidden": false
    }
   },
   "outputs": [],
   "source": [
    "n_layers = 6\n",
    "weight_shapes = {\"weights\": (n_layers, n_qubits)}"
   ]
  },
  {
   "cell_type": "markdown",
   "metadata": {},
   "source": [
    "In our example, the `weights` argument of the QNode is trainable and has\n",
    "shape given by `(n_layers, n_qubits)`, which is passed to\n",
    "`~pennylane.templates.layers.BasicEntanglerLayers`{.interpreted-text\n",
    "role=\"func\"}.\n",
    "\n",
    "Now that `weight_shapes` is defined, it is easy to then convert the\n",
    "QNode:\n"
   ]
  },
  {
   "cell_type": "code",
   "execution_count": 33,
   "metadata": {
    "collapsed": false,
    "jupyter": {
     "outputs_hidden": false
    }
   },
   "outputs": [
    {
     "ename": "ImportError",
     "evalue": "KerasLayer requires a Keras version lower than 3. For instructions on running with Keras 2,visit https://keras.io/getting_started/#tensorflow--keras-2-backwards-compatibility.",
     "output_type": "error",
     "traceback": [
      "\u001b[0;31m---------------------------------------------------------------------------\u001b[0m",
      "\u001b[0;31mImportError\u001b[0m                               Traceback (most recent call last)",
      "Cell \u001b[0;32mIn[33], line 1\u001b[0m\n\u001b[0;32m----> 1\u001b[0m qlayer \u001b[38;5;241m=\u001b[39m qml\u001b[38;5;241m.\u001b[39mqnn\u001b[38;5;241m.\u001b[39mKerasLayer(qnode, weight_shapes, output_dim\u001b[38;5;241m=\u001b[39mn_qubits)\n",
      "File \u001b[0;32m/opt/anaconda3/envs/py12/lib/python3.12/site-packages/pennylane/qnn/keras.py:321\u001b[0m, in \u001b[0;36mKerasLayer.__init__\u001b[0;34m(self, qnode, weight_shapes, output_dim, weight_specs, **kwargs)\u001b[0m\n\u001b[1;32m    313\u001b[0m     \u001b[38;5;28;01mraise\u001b[39;00m \u001b[38;5;167;01mImportError\u001b[39;00m(\n\u001b[1;32m    314\u001b[0m         \u001b[38;5;124m\"\u001b[39m\u001b[38;5;124mKerasLayer requires TensorFlow version 2 or above. The latest \u001b[39m\u001b[38;5;124m\"\u001b[39m\n\u001b[1;32m    315\u001b[0m         \u001b[38;5;124m\"\u001b[39m\u001b[38;5;124mversion of TensorFlow can be installed using:\u001b[39m\u001b[38;5;130;01m\\n\u001b[39;00m\u001b[38;5;124m\"\u001b[39m\n\u001b[1;32m    316\u001b[0m         \u001b[38;5;124m\"\u001b[39m\u001b[38;5;124mpip install tensorflow --upgrade\u001b[39m\u001b[38;5;130;01m\\n\u001b[39;00m\u001b[38;5;124mAlternatively, visit \u001b[39m\u001b[38;5;124m\"\u001b[39m\n\u001b[1;32m    317\u001b[0m         \u001b[38;5;124m\"\u001b[39m\u001b[38;5;124mhttps://www.tensorflow.org/install for detailed instructions.\u001b[39m\u001b[38;5;124m\"\u001b[39m\n\u001b[1;32m    318\u001b[0m     )\n\u001b[1;32m    320\u001b[0m \u001b[38;5;28;01mif\u001b[39;00m \u001b[38;5;129;01mnot\u001b[39;00m CORRECT_KERAS_VERSION:\n\u001b[0;32m--> 321\u001b[0m     \u001b[38;5;28;01mraise\u001b[39;00m \u001b[38;5;167;01mImportError\u001b[39;00m(\n\u001b[1;32m    322\u001b[0m         \u001b[38;5;124m\"\u001b[39m\u001b[38;5;124mKerasLayer requires a Keras version lower than 3. For instructions on running with Keras 2,\u001b[39m\u001b[38;5;124m\"\u001b[39m\n\u001b[1;32m    323\u001b[0m         \u001b[38;5;124m\"\u001b[39m\u001b[38;5;124mvisit https://keras.io/getting_started/#tensorflow--keras-2-backwards-compatibility.\u001b[39m\u001b[38;5;124m\"\u001b[39m\n\u001b[1;32m    324\u001b[0m     )\n\u001b[1;32m    326\u001b[0m \u001b[38;5;28mself\u001b[39m\u001b[38;5;241m.\u001b[39mweight_shapes \u001b[38;5;241m=\u001b[39m {\n\u001b[1;32m    327\u001b[0m     weight: (\u001b[38;5;28mtuple\u001b[39m(size) \u001b[38;5;28;01mif\u001b[39;00m \u001b[38;5;28misinstance\u001b[39m(size, Iterable) \u001b[38;5;28;01melse\u001b[39;00m (size,) \u001b[38;5;28;01mif\u001b[39;00m size \u001b[38;5;241m>\u001b[39m \u001b[38;5;241m1\u001b[39m \u001b[38;5;28;01melse\u001b[39;00m ())\n\u001b[1;32m    328\u001b[0m     \u001b[38;5;28;01mfor\u001b[39;00m weight, size \u001b[38;5;129;01min\u001b[39;00m weight_shapes\u001b[38;5;241m.\u001b[39mitems()\n\u001b[1;32m    329\u001b[0m }\n\u001b[1;32m    331\u001b[0m \u001b[38;5;28mself\u001b[39m\u001b[38;5;241m.\u001b[39m_signature_validation(qnode, weight_shapes)\n",
      "\u001b[0;31mImportError\u001b[0m: KerasLayer requires a Keras version lower than 3. For instructions on running with Keras 2,visit https://keras.io/getting_started/#tensorflow--keras-2-backwards-compatibility."
     ]
    }
   ],
   "source": [
    "qlayer = qml.qnn.KerasLayer(qnode, weight_shapes, output_dim=n_qubits)"
   ]
  },
  {
   "cell_type": "markdown",
   "metadata": {},
   "source": [
    "With this done, the QNode can now be treated just like any other Keras\n",
    "layer and we can proceed using the familiar Keras workflow.\n",
    "\n",
    "Creating a hybrid model\n",
    "=======================\n",
    "\n",
    "Let\\'s create a basic three-layered hybrid model consisting of:\n",
    "\n",
    "1.  a 2-neuron fully connected classical layer\n",
    "2.  our 2-qubit QNode converted into a layer\n",
    "3.  another 2-neuron fully connected classical layer\n",
    "4.  a softmax activation to convert to a probability vector\n",
    "\n",
    "A diagram of the model can be seen in the figure below.\n",
    "\n",
    "![](/_static/demonstration_assets/qnn_module/qnn_keras.png){.align-center\n",
    "width=\"100.0%\"}\n",
    "\n",
    "We can construct the model using the\n",
    "[Sequential](https://www.tensorflow.org/api_docs/python/tf/keras/Sequential)\n",
    "API:\n"
   ]
  },
  {
   "cell_type": "code",
   "execution_count": null,
   "metadata": {
    "collapsed": false,
    "jupyter": {
     "outputs_hidden": false
    }
   },
   "outputs": [],
   "source": [
    "clayer_1 = tf.keras.layers.Dense(2)\n",
    "clayer_2 = tf.keras.layers.Dense(2, activation=\"softmax\")\n",
    "model = tf.keras.models.Sequential([clayer_1, qlayer, clayer_2])"
   ]
  },
  {
   "cell_type": "markdown",
   "metadata": {},
   "source": [
    "Training the model\n",
    "==================\n",
    "\n",
    "We can now train our hybrid model on the classification dataset using\n",
    "the usual Keras approach. We\\'ll use the standard\n",
    "[SGD](https://www.tensorflow.org/api_docs/python/tf/keras/optimizers/SGD)\n",
    "optimizer and the mean absolute error loss function:\n"
   ]
  },
  {
   "cell_type": "code",
   "execution_count": null,
   "metadata": {
    "collapsed": false,
    "jupyter": {
     "outputs_hidden": false
    }
   },
   "outputs": [],
   "source": [
    "opt = tf.keras.optimizers.SGD(learning_rate=0.2)\n",
    "model.compile(opt, loss=\"mae\", metrics=[\"accuracy\"])"
   ]
  },
  {
   "cell_type": "markdown",
   "metadata": {},
   "source": [
    "Note that there are more advanced combinations of optimizer and loss\n",
    "function, but here we are focusing on the basics.\n",
    "\n",
    "The model is now ready to be trained!\n"
   ]
  },
  {
   "cell_type": "code",
   "execution_count": null,
   "metadata": {
    "collapsed": false,
    "jupyter": {
     "outputs_hidden": false
    }
   },
   "outputs": [],
   "source": [
    "fitting = model.fit(X, y_hot, epochs=6, batch_size=5, validation_split=0.25, verbose=2)"
   ]
  },
  {
   "cell_type": "markdown",
   "metadata": {},
   "source": [
    "How did we do? The model looks to have successfully trained and the\n",
    "accuracy on both the training and validation datasets is reasonably\n",
    "high. In practice, we would aim to push the accuracy higher by thinking\n",
    "carefully about the model design and the choice of hyperparameters such\n",
    "as the learning rate.\n",
    "\n",
    "Creating non-sequential models\n",
    "==============================\n",
    "\n",
    "The model we created above was composed of a sequence of classical and\n",
    "quantum layers. This type of model is very common and is suitable in a\n",
    "lot of situations. However, in some cases we may want a greater degree\n",
    "of control over how the model is constructed, for example when we have\n",
    "multiple inputs and outputs or when we want to distribute the output of\n",
    "one layer into multiple subsequent layers.\n",
    "\n",
    "Suppose we want to make a hybrid model consisting of:\n",
    "\n",
    "1.  a 4-neuron fully connected classical layer\n",
    "2.  a 2-qubit quantum layer connected to the first two neurons of the\n",
    "    previous classical layer\n",
    "3.  a 2-qubit quantum layer connected to the second two neurons of the\n",
    "    previous classical layer\n",
    "4.  a 2-neuron fully connected classical layer which takes a\n",
    "    4-dimensional input from the combination of the previous quantum\n",
    "    layers\n",
    "5.  a softmax activation to convert to a probability vector\n",
    "\n",
    "A diagram of the model can be seen in the figure below.\n",
    "\n",
    "![](/_static/demonstration_assets/qnn_module/qnn2_keras.png){.align-center\n",
    "width=\"100.0%\"}\n",
    "\n",
    "This model can also be constructed using the [Functional\n",
    "API](https://keras.io/guides/functional_api/):\n"
   ]
  },
  {
   "cell_type": "code",
   "execution_count": null,
   "metadata": {
    "collapsed": false,
    "jupyter": {
     "outputs_hidden": false
    }
   },
   "outputs": [],
   "source": [
    "# re-define the layers\n",
    "clayer_1 = tf.keras.layers.Dense(4)\n",
    "qlayer_1 = qml.qnn.KerasLayer(qnode, weight_shapes, output_dim=n_qubits)\n",
    "qlayer_2 = qml.qnn.KerasLayer(qnode, weight_shapes, output_dim=n_qubits)\n",
    "clayer_2 = tf.keras.layers.Dense(2, activation=\"softmax\")\n",
    "\n",
    "# construct the model\n",
    "inputs = tf.keras.Input(shape=(2,))\n",
    "x = clayer_1(inputs)\n",
    "x_1, x_2 = tf.split(x, 2, axis=1)\n",
    "x_1 = qlayer_1(x_1)\n",
    "x_2 = qlayer_2(x_2)\n",
    "x = tf.concat([x_1, x_2], axis=1)\n",
    "outputs = clayer_2(x)\n",
    "\n",
    "model = tf.keras.Model(inputs=inputs, outputs=outputs)"
   ]
  },
  {
   "cell_type": "markdown",
   "metadata": {},
   "source": [
    "As a final step, let\\'s train the model to check if it\\'s working:\n"
   ]
  },
  {
   "cell_type": "code",
   "execution_count": null,
   "metadata": {
    "collapsed": false,
    "jupyter": {
     "outputs_hidden": false
    }
   },
   "outputs": [],
   "source": [
    "opt = tf.keras.optimizers.SGD(learning_rate=0.2)\n",
    "model.compile(opt, loss=\"mae\", metrics=[\"accuracy\"])\n",
    "\n",
    "fitting = model.fit(X, y_hot, epochs=6, batch_size=5, validation_split=0.25, verbose=2)"
   ]
  },
  {
   "cell_type": "markdown",
   "metadata": {},
   "source": [
    "Great! We\\'ve mastered the basics of constructing hybrid\n",
    "classical-quantum models using PennyLane and Keras. Can you think of any\n",
    "interesting hybrid models to construct? How do they perform on realistic\n",
    "datasets?\n"
   ]
  },
  {
   "cell_type": "markdown",
   "metadata": {},
   "source": [
    "About the author\n",
    "================\n"
   ]
  }
 ],
 "metadata": {
  "kernelspec": {
   "display_name": "Python 3 (ipykernel)",
   "language": "python",
   "name": "python3"
  },
  "language_info": {
   "codemirror_mode": {
    "name": "ipython",
    "version": 3
   },
   "file_extension": ".py",
   "mimetype": "text/x-python",
   "name": "python",
   "nbconvert_exporter": "python",
   "pygments_lexer": "ipython3",
   "version": "3.12.4"
  }
 },
 "nbformat": 4,
 "nbformat_minor": 4
}
